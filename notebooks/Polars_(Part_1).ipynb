{
  "cells": [
    {
      "cell_type": "markdown",
      "metadata": {
        "id": "xLEv6tug_IBD"
      },
      "source": [
        "# Polars - Fast Data Analysis in Python: Part 1: DataFrames\n",
        "\n",
        "Polars is a highly performant library for manipulating structured data. Polars is one of the best performing solutions available when it comes to clearning, preparing, and transforming medium-sized datasets (>10GB), which is typically where Pandas begins to bog down.\n",
        "\n",
        "The objective of this tutorial is to cover the most important features of Polars.\n",
        "\n",
        "This is Part 1 of this tutorial which introduces Polars' most important data structure, the **DataFrame**, and explains how to import data, query, and clean data.\n",
        "\n",
        "Let us begin by importing `polars` and `pandas` into our namespace."
      ]
    },
    {
      "cell_type": "code",
      "execution_count": 1,
      "metadata": {
        "id": "TJCFHmDG_IBF"
      },
      "outputs": [],
      "source": [
        "import polars as pl\n",
        "import pandas as pd"
      ]
    },
    {
      "cell_type": "markdown",
      "metadata": {
        "id": "7XkxUFxgfI9d"
      },
      "source": [
        "## The DataFrame\n",
        "\n",
        "The DataFrame is a table with an index that labels rows and columns. A DataFrame typically stores structured data, such as numeric values or text labels."
      ]
    },
    {
      "cell_type": "markdown",
      "metadata": {
        "id": "CoGKSu5P_IB-"
      },
      "source": [
        "### Elements of a DataFrame\n",
        "\n",
        "![Drawing of a DataFrame](https://lscm.s3.amazonaws.com/pandas/dataframe_in_a_nutshell.png)\n",
        "\n",
        "#### Data Types\n",
        "A DataFrame organizes data in rows and columns, whereby each data point occupies a separate row. Rows are expected to have the same length, and columns are expected to be of the same type.\n",
        "\n",
        "Columns can hold numeric data, like real values (`f64`) or integers (`i64`), as well as categorical data, like text (`type=str`). They may even contain objects, for example `dt` objects to store date and time.\n",
        "\n",
        "#### Rows and Columns\n",
        "Each row and each column has a unique label which gives us a row index (the `Polars.row`) and a column index (`Polars.col`). We can uses these indices to select individual values from the DataFrame. Typically, row index labels are integers (or time stamps) and column index labels are names.\n",
        "\n",
        "Internally, data is stored in Apache Arrow, a columnar data format that facilitates in-memory exchange of data between system processes.\n",
        "\n",
        "#### Missing Values\n",
        "If a data point does not show a value for a specific column, we refer to this as a missing value. Missing values are labeled as `null` which stands for not a number.\n",
        "\n",
        "\n"
      ]
    },
    {
      "cell_type": "markdown",
      "metadata": {
        "id": "RGOhL2FGgtYP"
      },
      "source": [
        "### Creating a DataFrame\n",
        "\n",
        "We begin with a simple DataFrame that stores information of the continents on Earth, like their population and their land area.\n",
        "\n",
        "Suppose our data is organized in a dictionary, with column labels as keys and values as lists that contain, continent names, population, and area."
      ]
    },
    {
      "cell_type": "code",
      "execution_count": 2,
      "metadata": {
        "id": "vho97PKc_IB-"
      },
      "outputs": [],
      "source": [
        "mydata = dict(\n",
        "    continent=['Africa', 'Antartica', 'Asia', 'Australia', 'Europe','North America', 'South America'],\n",
        "    population=[1216000000.0, None, 4463000000.0, 24130000.0, 741400000.0, 579000000.0, 422500000.0],\n",
        "    area=[30221532, 14000000, 44579000, 8525989, 10180000, 24709000, 17840000]\n",
        "    )"
      ]
    },
    {
      "cell_type": "markdown",
      "metadata": {
        "id": "WblgzsuYigD_"
      },
      "source": [
        "Let us create a DataFrame with the continent data as input."
      ]
    },
    {
      "cell_type": "code",
      "execution_count": 3,
      "metadata": {
        "colab": {
          "base_uri": "https://localhost:8080/",
          "height": 329
        },
        "id": "qc6brviqikq4",
        "outputId": "9a615463-86ea-4373-c6aa-5cafdeb9eb32"
      },
      "outputs": [
        {
          "data": {
            "text/html": [
              "<div><style>\n",
              ".dataframe > thead > tr > th,\n",
              ".dataframe > tbody > tr > td {\n",
              "  text-align: right;\n",
              "}\n",
              "</style>\n",
              "<small>shape: (7, 3)</small><table border=\"1\" class=\"dataframe\"><thead><tr><th>continent</th><th>population</th><th>area</th></tr><tr><td>str</td><td>f64</td><td>i64</td></tr></thead><tbody><tr><td>&quot;Africa&quot;</td><td>1.2160e9</td><td>30221532</td></tr><tr><td>&quot;Antartica&quot;</td><td>null</td><td>14000000</td></tr><tr><td>&quot;Asia&quot;</td><td>4.4630e9</td><td>44579000</td></tr><tr><td>&quot;Australia&quot;</td><td>2.413e7</td><td>8525989</td></tr><tr><td>&quot;Europe&quot;</td><td>7.414e8</td><td>10180000</td></tr><tr><td>&quot;North America&quot;</td><td>5.79e8</td><td>24709000</td></tr><tr><td>&quot;South America&quot;</td><td>4.225e8</td><td>17840000</td></tr></tbody></table></div>"
            ],
            "text/plain": [
              "shape: (7, 3)\n",
              "┌───────────────┬────────────┬──────────┐\n",
              "│ continent     ┆ population ┆ area     │\n",
              "│ ---           ┆ ---        ┆ ---      │\n",
              "│ str           ┆ f64        ┆ i64      │\n",
              "╞═══════════════╪════════════╪══════════╡\n",
              "│ Africa        ┆ 1.2160e9   ┆ 30221532 │\n",
              "│ Antartica     ┆ null       ┆ 14000000 │\n",
              "│ Asia          ┆ 4.4630e9   ┆ 44579000 │\n",
              "│ Australia     ┆ 2.413e7    ┆ 8525989  │\n",
              "│ Europe        ┆ 7.414e8    ┆ 10180000 │\n",
              "│ North America ┆ 5.79e8     ┆ 24709000 │\n",
              "│ South America ┆ 4.225e8    ┆ 17840000 │\n",
              "└───────────────┴────────────┴──────────┘"
            ]
          },
          "execution_count": 3,
          "metadata": {},
          "output_type": "execute_result"
        }
      ],
      "source": [
        "df = pl.DataFrame(data=mydata)\n",
        "df"
      ]
    },
    {
      "cell_type": "markdown",
      "metadata": {
        "id": "j2t0uFfsDInd"
      },
      "source": [
        "As we can see, the DataFrame shows the column name in the header and the values in the columns. Additionally, it shows the data type for each columns."
      ]
    },
    {
      "cell_type": "markdown",
      "metadata": {
        "id": "EtbAxyR-_ICD"
      },
      "source": [
        "### Indexing\n",
        "\n",
        "We can now access the data in all kinds of ways. For example, by getting a single column."
      ]
    },
    {
      "cell_type": "code",
      "execution_count": 4,
      "metadata": {
        "colab": {
          "base_uri": "https://localhost:8080/",
          "height": 329
        },
        "id": "-MPBXTPA_ICD",
        "outputId": "cb98e71c-d832-40ac-f9ad-7309b3edf96b"
      },
      "outputs": [
        {
          "data": {
            "text/html": [
              "<div><style>\n",
              ".dataframe > thead > tr > th,\n",
              ".dataframe > tbody > tr > td {\n",
              "  text-align: right;\n",
              "}\n",
              "</style>\n",
              "<small>shape: (7, 1)</small><table border=\"1\" class=\"dataframe\"><thead><tr><th>population</th></tr><tr><td>f64</td></tr></thead><tbody><tr><td>1.2160e9</td></tr><tr><td>null</td></tr><tr><td>4.4630e9</td></tr><tr><td>2.413e7</td></tr><tr><td>7.414e8</td></tr><tr><td>5.79e8</td></tr><tr><td>4.225e8</td></tr></tbody></table></div>"
            ],
            "text/plain": [
              "shape: (7, 1)\n",
              "┌────────────┐\n",
              "│ population │\n",
              "│ ---        │\n",
              "│ f64        │\n",
              "╞════════════╡\n",
              "│ 1.2160e9   │\n",
              "│ null       │\n",
              "│ 4.4630e9   │\n",
              "│ 2.413e7    │\n",
              "│ 7.414e8    │\n",
              "│ 5.79e8     │\n",
              "│ 4.225e8    │\n",
              "└────────────┘"
            ]
          },
          "execution_count": 4,
          "metadata": {},
          "output_type": "execute_result"
        }
      ],
      "source": [
        "df.select(\"population\")"
      ]
    },
    {
      "cell_type": "markdown",
      "metadata": {
        "id": "IPZZk9dz_ICK"
      },
      "source": [
        "We can also select multiple columns, which we can do by passing a list of column names."
      ]
    },
    {
      "cell_type": "code",
      "execution_count": 5,
      "metadata": {
        "colab": {
          "base_uri": "https://localhost:8080/",
          "height": 329
        },
        "id": "0DCA-Rvc_ICK",
        "outputId": "555da678-aaf2-4733-aa35-2a73e2ec5edf"
      },
      "outputs": [
        {
          "data": {
            "text/html": [
              "<div><style>\n",
              ".dataframe > thead > tr > th,\n",
              ".dataframe > tbody > tr > td {\n",
              "  text-align: right;\n",
              "}\n",
              "</style>\n",
              "<small>shape: (7, 2)</small><table border=\"1\" class=\"dataframe\"><thead><tr><th>population</th><th>area</th></tr><tr><td>f64</td><td>i64</td></tr></thead><tbody><tr><td>1.2160e9</td><td>30221532</td></tr><tr><td>null</td><td>14000000</td></tr><tr><td>4.4630e9</td><td>44579000</td></tr><tr><td>2.413e7</td><td>8525989</td></tr><tr><td>7.414e8</td><td>10180000</td></tr><tr><td>5.79e8</td><td>24709000</td></tr><tr><td>4.225e8</td><td>17840000</td></tr></tbody></table></div>"
            ],
            "text/plain": [
              "shape: (7, 2)\n",
              "┌────────────┬──────────┐\n",
              "│ population ┆ area     │\n",
              "│ ---        ┆ ---      │\n",
              "│ f64        ┆ i64      │\n",
              "╞════════════╪══════════╡\n",
              "│ 1.2160e9   ┆ 30221532 │\n",
              "│ null       ┆ 14000000 │\n",
              "│ 4.4630e9   ┆ 44579000 │\n",
              "│ 2.413e7    ┆ 8525989  │\n",
              "│ 7.414e8    ┆ 10180000 │\n",
              "│ 5.79e8     ┆ 24709000 │\n",
              "│ 4.225e8    ┆ 17840000 │\n",
              "└────────────┴──────────┘"
            ]
          },
          "execution_count": 5,
          "metadata": {},
          "output_type": "execute_result"
        }
      ],
      "source": [
        "df.select(\"population\",\"area\")"
      ]
    },
    {
      "cell_type": "markdown",
      "metadata": {
        "id": "qJ-tEDEW_ICF"
      },
      "source": [
        "We can also use the function `polars.col` to create an object."
      ]
    },
    {
      "cell_type": "code",
      "execution_count": 6,
      "metadata": {
        "colab": {
          "base_uri": "https://localhost:8080/",
          "height": 329
        },
        "id": "-Ub8LpaA_ICG",
        "outputId": "feb8df51-3124-4946-8a2c-0b128437acf5"
      },
      "outputs": [
        {
          "data": {
            "text/html": [
              "<div><style>\n",
              ".dataframe > thead > tr > th,\n",
              ".dataframe > tbody > tr > td {\n",
              "  text-align: right;\n",
              "}\n",
              "</style>\n",
              "<small>shape: (7, 1)</small><table border=\"1\" class=\"dataframe\"><thead><tr><th>population</th></tr><tr><td>f64</td></tr></thead><tbody><tr><td>1.2160e9</td></tr><tr><td>null</td></tr><tr><td>4.4630e9</td></tr><tr><td>2.413e7</td></tr><tr><td>7.414e8</td></tr><tr><td>5.79e8</td></tr><tr><td>4.225e8</td></tr></tbody></table></div>"
            ],
            "text/plain": [
              "shape: (7, 1)\n",
              "┌────────────┐\n",
              "│ population │\n",
              "│ ---        │\n",
              "│ f64        │\n",
              "╞════════════╡\n",
              "│ 1.2160e9   │\n",
              "│ null       │\n",
              "│ 4.4630e9   │\n",
              "│ 2.413e7    │\n",
              "│ 7.414e8    │\n",
              "│ 5.79e8     │\n",
              "│ 4.225e8    │\n",
              "└────────────┘"
            ]
          },
          "execution_count": 6,
          "metadata": {},
          "output_type": "execute_result"
        }
      ],
      "source": [
        "df.select(pl.col(\"population\"))"
      ]
    },
    {
      "cell_type": "markdown",
      "metadata": {
        "id": "P57twYAN_ICL"
      },
      "source": [
        "To select rows, where the column attributes take on specified values, we use the function `filter`. To create a boolean expression, we must use the column object from the previous step."
      ]
    },
    {
      "cell_type": "code",
      "execution_count": 7,
      "metadata": {
        "colab": {
          "base_uri": "https://localhost:8080/",
          "height": 146
        },
        "id": "kBjM8Hp6_ICM",
        "outputId": "9c014fc7-5590-4088-e8fe-c40fa869c188"
      },
      "outputs": [
        {
          "data": {
            "text/html": [
              "<div><style>\n",
              ".dataframe > thead > tr > th,\n",
              ".dataframe > tbody > tr > td {\n",
              "  text-align: right;\n",
              "}\n",
              "</style>\n",
              "<small>shape: (1, 3)</small><table border=\"1\" class=\"dataframe\"><thead><tr><th>continent</th><th>population</th><th>area</th></tr><tr><td>str</td><td>f64</td><td>i64</td></tr></thead><tbody><tr><td>&quot;Europe&quot;</td><td>7.414e8</td><td>10180000</td></tr></tbody></table></div>"
            ],
            "text/plain": [
              "shape: (1, 3)\n",
              "┌───────────┬────────────┬──────────┐\n",
              "│ continent ┆ population ┆ area     │\n",
              "│ ---       ┆ ---        ┆ ---      │\n",
              "│ str       ┆ f64        ┆ i64      │\n",
              "╞═══════════╪════════════╪══════════╡\n",
              "│ Europe    ┆ 7.414e8    ┆ 10180000 │\n",
              "└───────────┴────────────┴──────────┘"
            ]
          },
          "execution_count": 7,
          "metadata": {},
          "output_type": "execute_result"
        }
      ],
      "source": [
        "df.filter(pl.col(\"continent\")==\"Europe\")#.select(\"population\")"
      ]
    },
    {
      "cell_type": "markdown",
      "metadata": {
        "id": "jAKdcojR_ICO"
      },
      "source": [
        "We can even combine the two functions in a chain. Better use line breaks here and start a new row with each function call."
      ]
    },
    {
      "cell_type": "code",
      "execution_count": 8,
      "metadata": {
        "colab": {
          "base_uri": "https://localhost:8080/",
          "height": 146
        },
        "id": "iB2bKYBv_ICO",
        "outputId": "2d4e3e53-9692-4e48-b029-81dfc9e6d007"
      },
      "outputs": [
        {
          "data": {
            "text/html": [
              "<div><style>\n",
              ".dataframe > thead > tr > th,\n",
              ".dataframe > tbody > tr > td {\n",
              "  text-align: right;\n",
              "}\n",
              "</style>\n",
              "<small>shape: (1, 1)</small><table border=\"1\" class=\"dataframe\"><thead><tr><th>population</th></tr><tr><td>f64</td></tr></thead><tbody><tr><td>7.414e8</td></tr></tbody></table></div>"
            ],
            "text/plain": [
              "shape: (1, 1)\n",
              "┌────────────┐\n",
              "│ population │\n",
              "│ ---        │\n",
              "│ f64        │\n",
              "╞════════════╡\n",
              "│ 7.414e8    │\n",
              "└────────────┘"
            ]
          },
          "execution_count": 8,
          "metadata": {},
          "output_type": "execute_result"
        }
      ],
      "source": [
        "df.filter(\n",
        "    pl.col(\"continent\")==\"Europe\"\n",
        " ).select(\n",
        "  \"population\"\n",
        " )"
      ]
    },
    {
      "cell_type": "markdown",
      "metadata": {
        "id": "KhtKSgzj_ICP"
      },
      "source": [
        "We can also select a row by using its index, which returns the content of the row as a tuple."
      ]
    },
    {
      "cell_type": "code",
      "execution_count": 9,
      "metadata": {
        "colab": {
          "base_uri": "https://localhost:8080/"
        },
        "id": "Oh6evPms_ICP",
        "outputId": "89191285-5c0e-4bfa-9790-cedd9789b210"
      },
      "outputs": [
        {
          "data": {
            "text/plain": [
              "('Africa', 1216000000.0, 30221532)"
            ]
          },
          "execution_count": 9,
          "metadata": {},
          "output_type": "execute_result"
        }
      ],
      "source": [
        "df.row(0)"
      ]
    },
    {
      "cell_type": "markdown",
      "metadata": {
        "id": "_09bICjGFbc1"
      },
      "source": [
        "Or slice the DataFrame by choosing only a range of rows."
      ]
    },
    {
      "cell_type": "code",
      "execution_count": 10,
      "metadata": {
        "colab": {
          "base_uri": "https://localhost:8080/",
          "height": 207
        },
        "id": "r0uydlf2FFAZ",
        "outputId": "d87133e9-2616-4a7e-f2c9-56a5d0dd3067"
      },
      "outputs": [
        {
          "data": {
            "text/html": [
              "<div><style>\n",
              ".dataframe > thead > tr > th,\n",
              ".dataframe > tbody > tr > td {\n",
              "  text-align: right;\n",
              "}\n",
              "</style>\n",
              "<small>shape: (3, 3)</small><table border=\"1\" class=\"dataframe\"><thead><tr><th>continent</th><th>population</th><th>area</th></tr><tr><td>str</td><td>f64</td><td>i64</td></tr></thead><tbody><tr><td>&quot;Antartica&quot;</td><td>null</td><td>14000000</td></tr><tr><td>&quot;Asia&quot;</td><td>4.4630e9</td><td>44579000</td></tr><tr><td>&quot;Australia&quot;</td><td>2.413e7</td><td>8525989</td></tr></tbody></table></div>"
            ],
            "text/plain": [
              "shape: (3, 3)\n",
              "┌───────────┬────────────┬──────────┐\n",
              "│ continent ┆ population ┆ area     │\n",
              "│ ---       ┆ ---        ┆ ---      │\n",
              "│ str       ┆ f64        ┆ i64      │\n",
              "╞═══════════╪════════════╪══════════╡\n",
              "│ Antartica ┆ null       ┆ 14000000 │\n",
              "│ Asia      ┆ 4.4630e9   ┆ 44579000 │\n",
              "│ Australia ┆ 2.413e7    ┆ 8525989  │\n",
              "└───────────┴────────────┴──────────┘"
            ]
          },
          "execution_count": 10,
          "metadata": {},
          "output_type": "execute_result"
        }
      ],
      "source": [
        "df.slice(1,3)"
      ]
    },
    {
      "cell_type": "markdown",
      "metadata": {
        "id": "EFU57xrX_ICV"
      },
      "source": [
        "We can even combine select and filter in more creative ways."
      ]
    },
    {
      "cell_type": "code",
      "execution_count": 11,
      "metadata": {
        "colab": {
          "base_uri": "https://localhost:8080/",
          "height": 177
        },
        "id": "Uo8xl80z_ICW",
        "outputId": "ba999749-e013-4983-b71d-5fb22d19956c"
      },
      "outputs": [
        {
          "data": {
            "text/html": [
              "<div><style>\n",
              ".dataframe > thead > tr > th,\n",
              ".dataframe > tbody > tr > td {\n",
              "  text-align: right;\n",
              "}\n",
              "</style>\n",
              "<small>shape: (2, 2)</small><table border=\"1\" class=\"dataframe\"><thead><tr><th>continent</th><th>population</th></tr><tr><td>str</td><td>f64</td></tr></thead><tbody><tr><td>&quot;Africa&quot;</td><td>1.2160e9</td></tr><tr><td>&quot;Asia&quot;</td><td>4.4630e9</td></tr></tbody></table></div>"
            ],
            "text/plain": [
              "shape: (2, 2)\n",
              "┌───────────┬────────────┐\n",
              "│ continent ┆ population │\n",
              "│ ---       ┆ ---        │\n",
              "│ str       ┆ f64        │\n",
              "╞═══════════╪════════════╡\n",
              "│ Africa    ┆ 1.2160e9   │\n",
              "│ Asia      ┆ 4.4630e9   │\n",
              "└───────────┴────────────┘"
            ]
          },
          "execution_count": 11,
          "metadata": {},
          "output_type": "execute_result"
        }
      ],
      "source": [
        "df.select(\n",
        "    \"continent\",\"population\"\n",
        "    ).filter(\n",
        "        pl.col(\"population\")>1000000000\n",
        "    )"
      ]
    },
    {
      "cell_type": "markdown",
      "metadata": {
        "id": "6hcG9GkLCaZC"
      },
      "source": [
        "We can also create more complex boolean slices by logically combining boolean expressions:\n",
        "\n",
        "- logical AND `&`\n",
        "- logical OR `|`\n",
        "- logical NOT `~`\n",
        "\n",
        "Each logical expression must be sourrounded by parantheses, for example, `(...) & (...)`."
      ]
    },
    {
      "cell_type": "code",
      "execution_count": 12,
      "metadata": {
        "colab": {
          "base_uri": "https://localhost:8080/",
          "height": 207
        },
        "id": "CS4RYmlmmzZH",
        "outputId": "a31cbe8b-0228-4bcb-d25a-8120787f132b"
      },
      "outputs": [
        {
          "data": {
            "text/html": [
              "<div><style>\n",
              ".dataframe > thead > tr > th,\n",
              ".dataframe > tbody > tr > td {\n",
              "  text-align: right;\n",
              "}\n",
              "</style>\n",
              "<small>shape: (3, 2)</small><table border=\"1\" class=\"dataframe\"><thead><tr><th>continent</th><th>population</th></tr><tr><td>str</td><td>f64</td></tr></thead><tbody><tr><td>&quot;Europe&quot;</td><td>7.414e8</td></tr><tr><td>&quot;North America&quot;</td><td>5.79e8</td></tr><tr><td>&quot;South America&quot;</td><td>4.225e8</td></tr></tbody></table></div>"
            ],
            "text/plain": [
              "shape: (3, 2)\n",
              "┌───────────────┬────────────┐\n",
              "│ continent     ┆ population │\n",
              "│ ---           ┆ ---        │\n",
              "│ str           ┆ f64        │\n",
              "╞═══════════════╪════════════╡\n",
              "│ Europe        ┆ 7.414e8    │\n",
              "│ North America ┆ 5.79e8     │\n",
              "│ South America ┆ 4.225e8    │\n",
              "└───────────────┴────────────┘"
            ]
          },
          "execution_count": 12,
          "metadata": {},
          "output_type": "execute_result"
        }
      ],
      "source": [
        "df.select(\n",
        "    \"continent\",\"population\"\n",
        "    ).filter(\n",
        "        (pl.col(\"population\")>100000000) & (pl.col(\"population\") < 1000000000)\n",
        "    )"
      ]
    },
    {
      "cell_type": "markdown",
      "metadata": {
        "id": "DEobh_yOGktT"
      },
      "source": [
        "Unfortunately, complex selections become quite hard to\n",
        "\n",
        "---\n",
        "\n",
        "read in this way. There are helper functions, such as `is_in` or the column attribute `str`."
      ]
    },
    {
      "cell_type": "code",
      "execution_count": 13,
      "metadata": {
        "colab": {
          "base_uri": "https://localhost:8080/",
          "height": 177
        },
        "id": "uEdnlVb1KpZq",
        "outputId": "fe120169-3d85-4f23-aa63-05502a88bbb1"
      },
      "outputs": [
        {
          "data": {
            "text/html": [
              "<div><style>\n",
              ".dataframe > thead > tr > th,\n",
              ".dataframe > tbody > tr > td {\n",
              "  text-align: right;\n",
              "}\n",
              "</style>\n",
              "<small>shape: (2, 2)</small><table border=\"1\" class=\"dataframe\"><thead><tr><th>continent</th><th>population</th></tr><tr><td>str</td><td>f64</td></tr></thead><tbody><tr><td>&quot;Asia&quot;</td><td>4.4630e9</td></tr><tr><td>&quot;Europe&quot;</td><td>7.414e8</td></tr></tbody></table></div>"
            ],
            "text/plain": [
              "shape: (2, 2)\n",
              "┌───────────┬────────────┐\n",
              "│ continent ┆ population │\n",
              "│ ---       ┆ ---        │\n",
              "│ str       ┆ f64        │\n",
              "╞═══════════╪════════════╡\n",
              "│ Asia      ┆ 4.4630e9   │\n",
              "│ Europe    ┆ 7.414e8    │\n",
              "└───────────┴────────────┘"
            ]
          },
          "execution_count": 13,
          "metadata": {},
          "output_type": "execute_result"
        }
      ],
      "source": [
        "df.select(\n",
        "    \"continent\",\"population\"\n",
        ").filter(\n",
        "    pl.col(\"continent\").is_in([\"Europe\",\"Asia\"])\n",
        ")"
      ]
    },
    {
      "cell_type": "code",
      "execution_count": 14,
      "metadata": {
        "colab": {
          "base_uri": "https://localhost:8080/",
          "height": 207
        },
        "id": "pGjR4OFLKzSi",
        "outputId": "40dfd3de-b342-4b33-bffa-e47e5bce46af"
      },
      "outputs": [
        {
          "data": {
            "text/html": [
              "<div><style>\n",
              ".dataframe > thead > tr > th,\n",
              ".dataframe > tbody > tr > td {\n",
              "  text-align: right;\n",
              "}\n",
              "</style>\n",
              "<small>shape: (4, 2)</small><table border=\"1\" class=\"dataframe\"><thead><tr><th>continent</th><th>population</th></tr><tr><td>str</td><td>f64</td></tr></thead><tbody><tr><td>&quot;Africa&quot;</td><td>1.2160e9</td></tr><tr><td>&quot;Antartica&quot;</td><td>null</td></tr><tr><td>&quot;Asia&quot;</td><td>4.4630e9</td></tr><tr><td>&quot;Australia&quot;</td><td>2.413e7</td></tr></tbody></table></div>"
            ],
            "text/plain": [
              "shape: (4, 2)\n",
              "┌───────────┬────────────┐\n",
              "│ continent ┆ population │\n",
              "│ ---       ┆ ---        │\n",
              "│ str       ┆ f64        │\n",
              "╞═══════════╪════════════╡\n",
              "│ Africa    ┆ 1.2160e9   │\n",
              "│ Antartica ┆ null       │\n",
              "│ Asia      ┆ 4.4630e9   │\n",
              "│ Australia ┆ 2.413e7    │\n",
              "└───────────┴────────────┘"
            ]
          },
          "execution_count": 14,
          "metadata": {},
          "output_type": "execute_result"
        }
      ],
      "source": [
        "df.select(\n",
        "    \"continent\",\"population\"\n",
        "    ).filter(\n",
        "        pl.col(\"continent\").str.starts_with(\"A\")\n",
        "    )"
      ]
    },
    {
      "cell_type": "markdown",
      "metadata": {
        "id": "PxWmlTEk_ICb"
      },
      "source": [
        "Suppose we now want to include the names of the most populous cities. Using the same order as the continents, we store these in an additional list."
      ]
    },
    {
      "cell_type": "code",
      "execution_count": 15,
      "metadata": {
        "colab": {
          "base_uri": "https://localhost:8080/"
        },
        "id": "aVHYHjwM_ICc",
        "outputId": "7cfcc7ed-ddc5-42b7-d832-d3fb2b33c4a2"
      },
      "outputs": [
        {
          "data": {
            "text/plain": [
              "['Lagos',\n",
              " 'McMurdo Station',\n",
              " 'Shanghai',\n",
              " 'Sydney',\n",
              " 'Moscow',\n",
              " 'Mexico City',\n",
              " 'São Paulo']"
            ]
          },
          "execution_count": 15,
          "metadata": {},
          "output_type": "execute_result"
        }
      ],
      "source": [
        "cities = [\"Lagos\", \"McMurdo Station\", \"Shanghai\", \"Sydney\", \"Moscow\", \"Mexico City\", \"São Paulo\"]\n",
        "cities"
      ]
    },
    {
      "cell_type": "markdown",
      "metadata": {
        "id": "384Z0ApCtgR-"
      },
      "source": [
        "Instead of creating a new DataFrame, we can simply append this data to our DataFrame by adding it as an additional column."
      ]
    },
    {
      "cell_type": "code",
      "execution_count": 16,
      "metadata": {
        "colab": {
          "base_uri": "https://localhost:8080/",
          "height": 329
        },
        "id": "6bI3MdxN_ICe",
        "outputId": "e57bc7af-c20a-484d-d940-192ed1ab8aa1"
      },
      "outputs": [
        {
          "name": "stderr",
          "output_type": "stream",
          "text": [
            "/tmp/ipykernel_2813/2938771235.py:1: DeprecationWarning: Behavior for `lit` will change for sequence inputs. The result will change to be a literal of type List. To retain the old behavior, pass a Series instead, e.g. `Series(sequence)`.\n",
            "  df = df.with_columns(most_populous_city=pl.lit(cities))\n"
          ]
        },
        {
          "data": {
            "text/html": [
              "<div><style>\n",
              ".dataframe > thead > tr > th,\n",
              ".dataframe > tbody > tr > td {\n",
              "  text-align: right;\n",
              "}\n",
              "</style>\n",
              "<small>shape: (7, 4)</small><table border=\"1\" class=\"dataframe\"><thead><tr><th>continent</th><th>population</th><th>area</th><th>most_populous_city</th></tr><tr><td>str</td><td>f64</td><td>i64</td><td>str</td></tr></thead><tbody><tr><td>&quot;Africa&quot;</td><td>1.2160e9</td><td>30221532</td><td>&quot;Lagos&quot;</td></tr><tr><td>&quot;Antartica&quot;</td><td>null</td><td>14000000</td><td>&quot;McMurdo Statio…</td></tr><tr><td>&quot;Asia&quot;</td><td>4.4630e9</td><td>44579000</td><td>&quot;Shanghai&quot;</td></tr><tr><td>&quot;Australia&quot;</td><td>2.413e7</td><td>8525989</td><td>&quot;Sydney&quot;</td></tr><tr><td>&quot;Europe&quot;</td><td>7.414e8</td><td>10180000</td><td>&quot;Moscow&quot;</td></tr><tr><td>&quot;North America&quot;</td><td>5.79e8</td><td>24709000</td><td>&quot;Mexico City&quot;</td></tr><tr><td>&quot;South America&quot;</td><td>4.225e8</td><td>17840000</td><td>&quot;São Paulo&quot;</td></tr></tbody></table></div>"
            ],
            "text/plain": [
              "shape: (7, 4)\n",
              "┌───────────────┬────────────┬──────────┬────────────────────┐\n",
              "│ continent     ┆ population ┆ area     ┆ most_populous_city │\n",
              "│ ---           ┆ ---        ┆ ---      ┆ ---                │\n",
              "│ str           ┆ f64        ┆ i64      ┆ str                │\n",
              "╞═══════════════╪════════════╪══════════╪════════════════════╡\n",
              "│ Africa        ┆ 1.2160e9   ┆ 30221532 ┆ Lagos              │\n",
              "│ Antartica     ┆ null       ┆ 14000000 ┆ McMurdo Station    │\n",
              "│ Asia          ┆ 4.4630e9   ┆ 44579000 ┆ Shanghai           │\n",
              "│ Australia     ┆ 2.413e7    ┆ 8525989  ┆ Sydney             │\n",
              "│ Europe        ┆ 7.414e8    ┆ 10180000 ┆ Moscow             │\n",
              "│ North America ┆ 5.79e8     ┆ 24709000 ┆ Mexico City        │\n",
              "│ South America ┆ 4.225e8    ┆ 17840000 ┆ São Paulo          │\n",
              "└───────────────┴────────────┴──────────┴────────────────────┘"
            ]
          },
          "execution_count": 16,
          "metadata": {},
          "output_type": "execute_result"
        }
      ],
      "source": [
        "df = df.with_columns(most_populous_city=pl.lit(cities))\n",
        "df"
      ]
    },
    {
      "cell_type": "markdown",
      "metadata": {
        "id": "CicEsm6P_ICg"
      },
      "source": [
        "#### Exercises"
      ]
    },
    {
      "cell_type": "markdown",
      "metadata": {
        "id": "YDvYiSnp_ICh"
      },
      "source": [
        "1. Get the name of the most populous city of the continent with an area of less than 10,000,000."
      ]
    },
    {
      "cell_type": "code",
      "execution_count": 17,
      "metadata": {
        "colab": {
          "base_uri": "https://localhost:8080/",
          "height": 146
        },
        "id": "ygyhdMGJ_ICh",
        "outputId": "2400df9e-ac93-4354-b12d-00fcd98260d7"
      },
      "outputs": [
        {
          "data": {
            "text/html": [
              "<div><style>\n",
              ".dataframe > thead > tr > th,\n",
              ".dataframe > tbody > tr > td {\n",
              "  text-align: right;\n",
              "}\n",
              "</style>\n",
              "<small>shape: (1, 1)</small><table border=\"1\" class=\"dataframe\"><thead><tr><th>most_populous_city</th></tr><tr><td>str</td></tr></thead><tbody><tr><td>&quot;Sydney&quot;</td></tr></tbody></table></div>"
            ],
            "text/plain": [
              "shape: (1, 1)\n",
              "┌────────────────────┐\n",
              "│ most_populous_city │\n",
              "│ ---                │\n",
              "│ str                │\n",
              "╞════════════════════╡\n",
              "│ Sydney             │\n",
              "└────────────────────┘"
            ]
          },
          "execution_count": 17,
          "metadata": {},
          "output_type": "execute_result"
        }
      ],
      "source": [
        "df.filter(pl.col(\"area\")<10000000).select(\"most_populous_city\")"
      ]
    },
    {
      "cell_type": "markdown",
      "metadata": {
        "id": "Gg4lOp6O_ICi"
      },
      "source": [
        "2. Find the row that contains NaNs in the column population using the boolean function `isna` and display the name of the continent. (Remark: `isna` and `isnull` behave identically.)\n",
        "\n",
        "\n"
      ]
    },
    {
      "cell_type": "code",
      "execution_count": 18,
      "metadata": {
        "colab": {
          "base_uri": "https://localhost:8080/",
          "height": 146
        },
        "id": "UXS-liK9vEpd",
        "outputId": "3ce15704-7869-4b1c-a92d-7ec020155686"
      },
      "outputs": [
        {
          "name": "stderr",
          "output_type": "stream",
          "text": [
            "/tmp/ipykernel_2813/1227619148.py:1: DeprecationWarning: using `any` for horizontal computation is deprecated. Use `any_horizontal` instead.\n",
            "  df.filter(pl.any(pl.all().is_null()))\n"
          ]
        },
        {
          "data": {
            "text/html": [
              "<div><style>\n",
              ".dataframe > thead > tr > th,\n",
              ".dataframe > tbody > tr > td {\n",
              "  text-align: right;\n",
              "}\n",
              "</style>\n",
              "<small>shape: (1, 4)</small><table border=\"1\" class=\"dataframe\"><thead><tr><th>continent</th><th>population</th><th>area</th><th>most_populous_city</th></tr><tr><td>str</td><td>f64</td><td>i64</td><td>str</td></tr></thead><tbody><tr><td>&quot;Antartica&quot;</td><td>null</td><td>14000000</td><td>&quot;McMurdo Statio…</td></tr></tbody></table></div>"
            ],
            "text/plain": [
              "shape: (1, 4)\n",
              "┌───────────┬────────────┬──────────┬────────────────────┐\n",
              "│ continent ┆ population ┆ area     ┆ most_populous_city │\n",
              "│ ---       ┆ ---        ┆ ---      ┆ ---                │\n",
              "│ str       ┆ f64        ┆ i64      ┆ str                │\n",
              "╞═══════════╪════════════╪══════════╪════════════════════╡\n",
              "│ Antartica ┆ null       ┆ 14000000 ┆ McMurdo Station    │\n",
              "└───────────┴────────────┴──────────┴────────────────────┘"
            ]
          },
          "execution_count": 18,
          "metadata": {},
          "output_type": "execute_result"
        }
      ],
      "source": [
        "df.filter(pl.any(pl.all().is_null()))"
      ]
    },
    {
      "cell_type": "markdown",
      "metadata": {
        "id": "T0FHCp7u_ICk"
      },
      "source": [
        "3. Return the name of those continents whose largest city starts with an \"M\". Lagos is the most populous city of Africa."
      ]
    },
    {
      "cell_type": "code",
      "execution_count": 19,
      "metadata": {
        "colab": {
          "base_uri": "https://localhost:8080/",
          "height": 207
        },
        "id": "tZKtPOWc_ICk",
        "outputId": "3e124d61-bbd8-4c22-c0b5-af00ac5b857d"
      },
      "outputs": [
        {
          "data": {
            "text/html": [
              "<div><style>\n",
              ".dataframe > thead > tr > th,\n",
              ".dataframe > tbody > tr > td {\n",
              "  text-align: right;\n",
              "}\n",
              "</style>\n",
              "<small>shape: (3, 4)</small><table border=\"1\" class=\"dataframe\"><thead><tr><th>continent</th><th>population</th><th>area</th><th>most_populous_city</th></tr><tr><td>str</td><td>f64</td><td>i64</td><td>str</td></tr></thead><tbody><tr><td>&quot;Antartica&quot;</td><td>null</td><td>14000000</td><td>&quot;McMurdo Statio…</td></tr><tr><td>&quot;Europe&quot;</td><td>7.414e8</td><td>10180000</td><td>&quot;Moscow&quot;</td></tr><tr><td>&quot;North America&quot;</td><td>5.79e8</td><td>24709000</td><td>&quot;Mexico City&quot;</td></tr></tbody></table></div>"
            ],
            "text/plain": [
              "shape: (3, 4)\n",
              "┌───────────────┬────────────┬──────────┬────────────────────┐\n",
              "│ continent     ┆ population ┆ area     ┆ most_populous_city │\n",
              "│ ---           ┆ ---        ┆ ---      ┆ ---                │\n",
              "│ str           ┆ f64        ┆ i64      ┆ str                │\n",
              "╞═══════════════╪════════════╪══════════╪════════════════════╡\n",
              "│ Antartica     ┆ null       ┆ 14000000 ┆ McMurdo Station    │\n",
              "│ Europe        ┆ 7.414e8    ┆ 10180000 ┆ Moscow             │\n",
              "│ North America ┆ 5.79e8     ┆ 24709000 ┆ Mexico City        │\n",
              "└───────────────┴────────────┴──────────┴────────────────────┘"
            ]
          },
          "execution_count": 19,
          "metadata": {},
          "output_type": "execute_result"
        }
      ],
      "source": [
        "df.filter(pl.col(\"most_populous_city\").str.starts_with(\"M\"))"
      ]
    },
    {
      "cell_type": "markdown",
      "metadata": {
        "id": "2a_lKscR_ICm"
      },
      "source": [
        "## Importing Data\n",
        "\n",
        "In most cases, you will not have data lying around in Python dictionaries, but you will want to import them from some other data source, like a CSV file, an Excel workbook, a web page, a database, etc.\n",
        "\n",
        "To load data from an external data source into a DataFrame, Polars offers a series of methods, all starting with *read*:\n",
        "\n",
        "- `read_excel`: Import from Excel file\n",
        "- `read_csv`: Import from CSV (comma-separated values) file\n",
        "-`read_json`: Import from JSON-formated file\n",
        "-`read_sql`: Import from a database\n",
        "- ...\n",
        "\n",
        "Let us stick with our continent example and get some more data from Wikipedia: https://en.wikipedia.org/wiki/Continent.\n",
        "\n"
      ]
    },
    {
      "cell_type": "markdown",
      "metadata": {
        "id": "NaUmFp_he-l-"
      },
      "source": [
        "### CSV Import\n",
        "\n",
        "To skip the caveats of web scraping for the moment, we will import the continent data as CSV from a URL which contains a clean data set.\n",
        "\n",
        "The method `read_csv` parses a text file containing comma-separated  values into a DataFrame. Of course, there is no standard way to store a CSV. Some text files use commas others use tabs to separate values; some come with an index column other do not; some CSVs do not even have a header row. Polars will make some default assumptions about how the data is formated, but often we must tweak these arguments until the result looks right.\n",
        "\n",
        "#### Exercises\n",
        "\n",
        "1. Use `pl.read_csv` to import the CSV that is located at this URL: https://lscm.s3.amazonaws.com/pandas/wikipedia_continents_data.csv.\n"
      ]
    },
    {
      "cell_type": "code",
      "execution_count": 20,
      "metadata": {
        "colab": {
          "base_uri": "https://localhost:8080/",
          "height": 329
        },
        "id": "J2P8GvXbgEbe",
        "outputId": "6890aadf-9a68-42dd-ced0-e029d7168a64"
      },
      "outputs": [
        {
          "data": {
            "text/html": [
              "<div><style>\n",
              ".dataframe > thead > tr > th,\n",
              ".dataframe > tbody > tr > td {\n",
              "  text-align: right;\n",
              "}\n",
              "</style>\n",
              "<small>shape: (7, 1)</small><table border=\"1\" class=\"dataframe\"><thead><tr><th>\tContinent\tArea (km2)\tArea (sq mi)\tPct of total area\tPopulation\tPct of total population\tMost populous city</th></tr><tr><td>str</td></tr></thead><tbody><tr><td>&quot;0\tAfrica\t30370…</td></tr><tr><td>&quot;1\tAntarctica\t1…</td></tr><tr><td>&quot;2\tAsia\t4457900…</td></tr><tr><td>&quot;3\tEurope\t10180…</td></tr><tr><td>&quot;4\tNorth Americ…</td></tr><tr><td>&quot;5\tSouth Americ…</td></tr><tr><td>&quot;6\tAustralia\t86…</td></tr></tbody></table></div>"
            ],
            "text/plain": [
              "shape: (7, 1)\n",
              "┌────────────────────────────────┐\n",
              "│ \tContinent\tArea (km2)\tArea (sq m… │\n",
              "│ ---                            │\n",
              "│ str                            │\n",
              "╞════════════════════════════════╡\n",
              "│ 0\tAfrica\t30370000\t11730000\t20.4\t…   │\n",
              "│ 1\tAntarctica\t14000000\t5400000\t9.…  │\n",
              "│ 2\tAsia\t44579000\t17212000\t29.5\t45…   │\n",
              "│ 3\tEurope\t10180000\t3930000\t6.8\t74…   │\n",
              "│ 4\tNorth America\t24709000\t9540000… │\n",
              "│ 5\tSouth America\t17840000\t6890000… │\n",
              "│ 6\tAustralia\t8600000\t3300000\t5.9\t…   │\n",
              "└────────────────────────────────┘"
            ]
          },
          "execution_count": 20,
          "metadata": {},
          "output_type": "execute_result"
        }
      ],
      "source": [
        "pl.read_csv(\"https://lscm.s3.amazonaws.com/pandas/wikipedia_continents_data.csv\")"
      ]
    },
    {
      "cell_type": "markdown",
      "metadata": {
        "id": "obBoiJkUbWLT"
      },
      "source": [
        "2. The CSV is separated by tabs (indicated by regular expression `\\t`) and it contains a header row as well as an index column. Use the arguments and `separator` and `columns `to get a properly formatted DataFrame.\n",
        "\n"
      ]
    },
    {
      "cell_type": "code",
      "execution_count": 21,
      "metadata": {
        "colab": {
          "base_uri": "https://localhost:8080/",
          "height": 379
        },
        "id": "NiJHc_FBbWvq",
        "outputId": "57080764-f071-4a70-9f71-c4ffa2407209"
      },
      "outputs": [
        {
          "data": {
            "text/html": [
              "<div><style>\n",
              ".dataframe > thead > tr > th,\n",
              ".dataframe > tbody > tr > td {\n",
              "  text-align: right;\n",
              "}\n",
              "</style>\n",
              "<small>shape: (7, 8)</small><table border=\"1\" class=\"dataframe\"><thead><tr><th></th><th>Continent</th><th>Area (km2)</th><th>Area (sq mi)</th><th>Pct of total area</th><th>Population</th><th>Pct of total population</th><th>Most populous city</th></tr><tr><td>i64</td><td>str</td><td>i64</td><td>i64</td><td>f64</td><td>f64</td><td>f64</td><td>str</td></tr></thead><tbody><tr><td>0</td><td>&quot;Africa&quot;</td><td>30370000</td><td>11730000</td><td>20.4</td><td>1.2879e9</td><td>16.9</td><td>&quot;Lagos&quot;</td></tr><tr><td>1</td><td>&quot;Antarctica&quot;</td><td>14000000</td><td>5400000</td><td>9.2</td><td>null</td><td>0.0</td><td>&quot;McMurdo Statio…</td></tr><tr><td>2</td><td>&quot;Asia&quot;</td><td>44579000</td><td>17212000</td><td>29.5</td><td>4.5451e9</td><td>59.5</td><td>&quot;Shanghai&quot;</td></tr><tr><td>3</td><td>&quot;Europe&quot;</td><td>10180000</td><td>3930000</td><td>6.8</td><td>7.42648e8</td><td>9.7</td><td>&quot;Moscow&quot;</td></tr><tr><td>4</td><td>&quot;North America&quot;</td><td>24709000</td><td>9540000</td><td>16.5</td><td>5.87615e8</td><td>7.7</td><td>&quot;Mexico City&quot;</td></tr><tr><td>5</td><td>&quot;South America&quot;</td><td>17840000</td><td>6890000</td><td>12.0</td><td>4.2824e8</td><td>5.6</td><td>&quot;São Paulo&quot;</td></tr><tr><td>6</td><td>&quot;Australia&quot;</td><td>8600000</td><td>3300000</td><td>5.9</td><td>4.1261e7</td><td>0.5</td><td>&quot;Sydney&quot;</td></tr></tbody></table></div>"
            ],
            "text/plain": [
              "shape: (7, 8)\n",
              "┌─────┬─────────────┬────────────┬─────────────┬────────────┬────────────┬────────────┬────────────┐\n",
              "│     ┆ Continent   ┆ Area (km2) ┆ Area (sq    ┆ Pct of     ┆ Population ┆ Pct of     ┆ Most       │\n",
              "│ --- ┆ ---         ┆ ---        ┆ mi)         ┆ total area ┆ ---        ┆ total      ┆ populous   │\n",
              "│ i64 ┆ str         ┆ i64        ┆ ---         ┆ ---        ┆ f64        ┆ population ┆ city       │\n",
              "│     ┆             ┆            ┆ i64         ┆ f64        ┆            ┆ ---        ┆ ---        │\n",
              "│     ┆             ┆            ┆             ┆            ┆            ┆ f64        ┆ str        │\n",
              "╞═════╪═════════════╪════════════╪═════════════╪════════════╪════════════╪════════════╪════════════╡\n",
              "│ 0   ┆ Africa      ┆ 30370000   ┆ 11730000    ┆ 20.4       ┆ 1.2879e9   ┆ 16.9       ┆ Lagos      │\n",
              "│ 1   ┆ Antarctica  ┆ 14000000   ┆ 5400000     ┆ 9.2        ┆ null       ┆ 0.0        ┆ McMurdo    │\n",
              "│     ┆             ┆            ┆             ┆            ┆            ┆            ┆ Station    │\n",
              "│ 2   ┆ Asia        ┆ 44579000   ┆ 17212000    ┆ 29.5       ┆ 4.5451e9   ┆ 59.5       ┆ Shanghai   │\n",
              "│ 3   ┆ Europe      ┆ 10180000   ┆ 3930000     ┆ 6.8        ┆ 7.42648e8  ┆ 9.7        ┆ Moscow     │\n",
              "│ 4   ┆ North       ┆ 24709000   ┆ 9540000     ┆ 16.5       ┆ 5.87615e8  ┆ 7.7        ┆ Mexico     │\n",
              "│     ┆ America     ┆            ┆             ┆            ┆            ┆            ┆ City       │\n",
              "│ 5   ┆ South       ┆ 17840000   ┆ 6890000     ┆ 12.0       ┆ 4.2824e8   ┆ 5.6        ┆ São Paulo  │\n",
              "│     ┆ America     ┆            ┆             ┆            ┆            ┆            ┆            │\n",
              "│ 6   ┆ Australia   ┆ 8600000    ┆ 3300000     ┆ 5.9        ┆ 4.1261e7   ┆ 0.5        ┆ Sydney     │\n",
              "└─────┴─────────────┴────────────┴─────────────┴────────────┴────────────┴────────────┴────────────┘"
            ]
          },
          "execution_count": 21,
          "metadata": {},
          "output_type": "execute_result"
        }
      ],
      "source": [
        "pl.read_csv(source=\"https://lscm.s3.amazonaws.com/pandas/wikipedia_continents_data.csv\", separator=\"\\t\")"
      ]
    },
    {
      "cell_type": "markdown",
      "metadata": {
        "id": "2vqCCM_AbXWR"
      },
      "source": [
        "3. Only read columns that contain the continent name and its population. Take a look at the [documentation](https://pola-rs.github.io/polars/py-polars/html/reference/api/polars.read_csv.html) to see which options are available."
      ]
    },
    {
      "cell_type": "code",
      "execution_count": 22,
      "metadata": {
        "colab": {
          "base_uri": "https://localhost:8080/",
          "height": 329
        },
        "id": "541QHaZTbX34",
        "outputId": "5246799f-456f-43f4-c27e-d5fdaa6d3b13"
      },
      "outputs": [
        {
          "data": {
            "text/html": [
              "<div><style>\n",
              ".dataframe > thead > tr > th,\n",
              ".dataframe > tbody > tr > td {\n",
              "  text-align: right;\n",
              "}\n",
              "</style>\n",
              "<small>shape: (7, 2)</small><table border=\"1\" class=\"dataframe\"><thead><tr><th>Continent</th><th>Area (km2)</th></tr><tr><td>str</td><td>i64</td></tr></thead><tbody><tr><td>&quot;Africa&quot;</td><td>30370000</td></tr><tr><td>&quot;Antarctica&quot;</td><td>14000000</td></tr><tr><td>&quot;Asia&quot;</td><td>44579000</td></tr><tr><td>&quot;Europe&quot;</td><td>10180000</td></tr><tr><td>&quot;North America&quot;</td><td>24709000</td></tr><tr><td>&quot;South America&quot;</td><td>17840000</td></tr><tr><td>&quot;Australia&quot;</td><td>8600000</td></tr></tbody></table></div>"
            ],
            "text/plain": [
              "shape: (7, 2)\n",
              "┌───────────────┬────────────┐\n",
              "│ Continent     ┆ Area (km2) │\n",
              "│ ---           ┆ ---        │\n",
              "│ str           ┆ i64        │\n",
              "╞═══════════════╪════════════╡\n",
              "│ Africa        ┆ 30370000   │\n",
              "│ Antarctica    ┆ 14000000   │\n",
              "│ Asia          ┆ 44579000   │\n",
              "│ Europe        ┆ 10180000   │\n",
              "│ North America ┆ 24709000   │\n",
              "│ South America ┆ 17840000   │\n",
              "│ Australia     ┆ 8600000    │\n",
              "└───────────────┴────────────┘"
            ]
          },
          "execution_count": 22,
          "metadata": {},
          "output_type": "execute_result"
        }
      ],
      "source": [
        "pl.read_csv(\"https://lscm.s3.amazonaws.com/pandas/wikipedia_continents_data.csv\",\n",
        "            separator=\"\\t\", columns=[\"Continent\", \"Area (km2)\"])"
      ]
    },
    {
      "cell_type": "markdown",
      "metadata": {
        "id": "FBZYh2roirUB"
      },
      "source": [
        "### Import from Excel\n",
        "\n",
        "Unless, data has been explicitly exported, manual data entry and manipulation is typically done in spreadsheets, for example, Microsoft Excel.\n",
        "\n",
        "Let us now import the same data from an Excel file from the same URL. The table with the population data is located in the worksheet *Population*. We therefore use the argument `sheet_name=\"Population\"` to select the correct sheet."
      ]
    },
    {
      "cell_type": "code",
      "execution_count": 23,
      "metadata": {
        "colab": {
          "base_uri": "https://localhost:8080/",
          "height": 329
        },
        "id": "B39taceFibEC",
        "outputId": "b742f9b0-aedc-4dc5-f467-bc34f4bdb167"
      },
      "outputs": [
        {
          "data": {
            "text/html": [
              "<div><style>\n",
              ".dataframe > thead > tr > th,\n",
              ".dataframe > tbody > tr > td {\n",
              "  text-align: right;\n",
              "}\n",
              "</style>\n",
              "<small>shape: (7, 3)</small><table border=\"1\" class=\"dataframe\"><thead><tr><th>Continent</th><th>Population</th><th>Pct of total population</th></tr><tr><td>str</td><td>f64</td><td>f64</td></tr></thead><tbody><tr><td>&quot;Africa&quot;</td><td>1.2879e9</td><td>16.9</td></tr><tr><td>&quot;Antarctica&quot;</td><td>null</td><td>0.0</td></tr><tr><td>&quot;Asia&quot;</td><td>4.5451e9</td><td>59.5</td></tr><tr><td>&quot;Europe&quot;</td><td>7.42648e8</td><td>9.7</td></tr><tr><td>&quot;North America&quot;</td><td>5.87615e8</td><td>7.7</td></tr><tr><td>&quot;South America&quot;</td><td>4.2824e8</td><td>5.6</td></tr><tr><td>&quot;Australia&quot;</td><td>4.1261e7</td><td>0.5</td></tr></tbody></table></div>"
            ],
            "text/plain": [
              "shape: (7, 3)\n",
              "┌───────────────┬────────────┬─────────────────────────┐\n",
              "│ Continent     ┆ Population ┆ Pct of total population │\n",
              "│ ---           ┆ ---        ┆ ---                     │\n",
              "│ str           ┆ f64        ┆ f64                     │\n",
              "╞═══════════════╪════════════╪═════════════════════════╡\n",
              "│ Africa        ┆ 1.2879e9   ┆ 16.9                    │\n",
              "│ Antarctica    ┆ null       ┆ 0.0                     │\n",
              "│ Asia          ┆ 4.5451e9   ┆ 59.5                    │\n",
              "│ Europe        ┆ 7.42648e8  ┆ 9.7                     │\n",
              "│ North America ┆ 5.87615e8  ┆ 7.7                     │\n",
              "│ South America ┆ 4.2824e8   ┆ 5.6                     │\n",
              "│ Australia     ┆ 4.1261e7   ┆ 0.5                     │\n",
              "└───────────────┴────────────┴─────────────────────────┘"
            ]
          },
          "execution_count": 23,
          "metadata": {},
          "output_type": "execute_result"
        }
      ],
      "source": [
        "df = pl.from_pandas(pd.read_excel(\"https://lscm.s3.amazonaws.com/pandas/wikipedia_continents_data.xlsx\", sheet_name=\"Population\"))\n",
        "df"
      ]
    },
    {
      "cell_type": "markdown",
      "metadata": {
        "id": "cRbiw4__kKGr"
      },
      "source": [
        "### Webpage Scraping\n",
        "\n",
        "To get the lates figures of population data available on Wikipedia, we can also import the continent data directly.\n",
        "\n",
        "When importing data from web pages, you can use quite advanced libraries, such as [Requests](https://requests.readthedocs.io/en/master/) or [BeautifulSoup](https://www.crummy.com/software/BeautifulSoup/bs4/doc/) (it is named like that!), but for simple pages that contain data in regular HTML tables, this is often not needed. Pandas `read_html` can read an HTML webpage and scan the page for tables. What we get in return are all tables on that page parsed into a list of DataFrames.\n",
        "\n",
        "There are multiple tables that can be found under https://en.wikipedia.org/wiki/Continent. To ensure that this notebooks still works even if the page changes, we'll use a fixed snapshot. We are only interested in the one that summarizes area and population, which is the one with the index 2."
      ]
    },
    {
      "cell_type": "code",
      "execution_count": 24,
      "metadata": {
        "colab": {
          "base_uri": "https://localhost:8080/",
          "height": 511
        },
        "id": "s_YgWN_5a-1h",
        "outputId": "819dc274-be62-4dd5-84d0-3ea70c4a9291"
      },
      "outputs": [
        {
          "data": {
            "text/html": [
              "<div><style>\n",
              ".dataframe > thead > tr > th,\n",
              ".dataframe > tbody > tr > td {\n",
              "  text-align: right;\n",
              "}\n",
              "</style>\n",
              "<small>shape: (7, 8)</small><table border=\"1\" class=\"dataframe\"><thead><tr><th>Continent</th><th>Unnamed: 1</th><th>Area (km2) [failed verification]</th><th>Area (sq mi) [failed verification]</th><th>Percent total landmass [failed verification]</th><th>Population</th><th>Percent total pop.</th><th>Most populous city (proper)</th></tr><tr><td>str</td><td>str</td><td>i64</td><td>i64</td><td>str</td><td>str</td><td>str</td><td>str</td></tr></thead><tbody><tr><td>&quot;Africa&quot;</td><td>&quot;[note 1]&quot;</td><td>30370000</td><td>11730000</td><td>&quot;20.4%&quot;</td><td>&quot;1287920000&quot;</td><td>&quot;16.9%&quot;</td><td>&quot;Lagos, Nigeria…</td></tr><tr><td>&quot;Antarctica&quot;</td><td>&quot;[note 2]&quot;</td><td>14000000</td><td>5400000</td><td>&quot;9.2%&quot;</td><td>&quot;4,490[42]&quot;</td><td>&quot;0.0%&quot;</td><td>&quot;McMurdo Statio…</td></tr><tr><td>&quot;Asia&quot;</td><td>&quot;[note 3]&quot;</td><td>44579000</td><td>17212000</td><td>&quot;29.5%&quot;</td><td>&quot;4545133000&quot;</td><td>&quot;59.5%&quot;</td><td>&quot;Shanghai, Chin…</td></tr><tr><td>&quot;Europe&quot;</td><td>&quot;[note 4]&quot;</td><td>10180000</td><td>3930000</td><td>&quot;6.8%&quot;</td><td>&quot;742648000&quot;</td><td>&quot;9.7%&quot;</td><td>&quot;Moscow, Russia…</td></tr><tr><td>&quot;North America&quot;</td><td>&quot;[note 5]&quot;</td><td>24709000</td><td>9540000</td><td>&quot;16.5%&quot;</td><td>&quot;587615000&quot;</td><td>&quot;7.7%&quot;</td><td>&quot;Mexico City, M…</td></tr><tr><td>&quot;South America&quot;</td><td>null</td><td>17840000</td><td>6890000</td><td>&quot;12.0%&quot;</td><td>&quot;428240000&quot;</td><td>&quot;5.6%&quot;</td><td>&quot;São Paulo, Bra…</td></tr><tr><td>&quot;Australia&quot;</td><td>&quot;[note 6]&quot;</td><td>8600000</td><td>3300000</td><td>&quot;5.9%&quot;</td><td>&quot;41261000&quot;</td><td>&quot;0.5%&quot;</td><td>&quot;Sydney, Austra…</td></tr></tbody></table></div>"
            ],
            "text/plain": [
              "shape: (7, 8)\n",
              "┌────────────┬────────────┬────────────┬───────────┬───────────┬───────────┬───────────┬───────────┐\n",
              "│ Continent  ┆ Unnamed: 1 ┆ Area (km2) ┆ Area (sq  ┆ Percent   ┆ Populatio ┆ Percent   ┆ Most      │\n",
              "│ ---        ┆ ---        ┆ [failed    ┆ mi)       ┆ total     ┆ n         ┆ total     ┆ populous  │\n",
              "│ str        ┆ str        ┆ verificati ┆ [failed   ┆ landmass  ┆ ---       ┆ pop.      ┆ city      │\n",
              "│            ┆            ┆ on]        ┆ verificat ┆ [failed   ┆ str       ┆ ---       ┆ (proper)  │\n",
              "│            ┆            ┆ ---        ┆ io…       ┆ v…        ┆           ┆ str       ┆ ---       │\n",
              "│            ┆            ┆ i64        ┆ ---       ┆ ---       ┆           ┆           ┆ str       │\n",
              "│            ┆            ┆            ┆ i64       ┆ str       ┆           ┆           ┆           │\n",
              "╞════════════╪════════════╪════════════╪═══════════╪═══════════╪═══════════╪═══════════╪═══════════╡\n",
              "│ Africa     ┆ [note 1]   ┆ 30370000   ┆ 11730000  ┆ 20.4%     ┆ 128792000 ┆ 16.9%     ┆ Lagos,    │\n",
              "│            ┆            ┆            ┆           ┆           ┆ 0         ┆           ┆ Nigeria   │\n",
              "│ Antarctica ┆ [note 2]   ┆ 14000000   ┆ 5400000   ┆ 9.2%      ┆ 4,490[42] ┆ 0.0%      ┆ McMurdo   │\n",
              "│            ┆            ┆            ┆           ┆           ┆           ┆           ┆ Station   │\n",
              "│ Asia       ┆ [note 3]   ┆ 44579000   ┆ 17212000  ┆ 29.5%     ┆ 454513300 ┆ 59.5%     ┆ Shanghai, │\n",
              "│            ┆            ┆            ┆           ┆           ┆ 0         ┆           ┆ China     │\n",
              "│ Europe     ┆ [note 4]   ┆ 10180000   ┆ 3930000   ┆ 6.8%      ┆ 742648000 ┆ 9.7%      ┆ Moscow,   │\n",
              "│            ┆            ┆            ┆           ┆           ┆           ┆           ┆ Russia[43 │\n",
              "│            ┆            ┆            ┆           ┆           ┆           ┆           ┆ ]         │\n",
              "│ North      ┆ [note 5]   ┆ 24709000   ┆ 9540000   ┆ 16.5%     ┆ 587615000 ┆ 7.7%      ┆ Mexico    │\n",
              "│ America    ┆            ┆            ┆           ┆           ┆           ┆           ┆ City,     │\n",
              "│            ┆            ┆            ┆           ┆           ┆           ┆           ┆ Mexico    │\n",
              "│ South      ┆ null       ┆ 17840000   ┆ 6890000   ┆ 12.0%     ┆ 428240000 ┆ 5.6%      ┆ São       │\n",
              "│ America    ┆            ┆            ┆           ┆           ┆           ┆           ┆ Paulo,    │\n",
              "│            ┆            ┆            ┆           ┆           ┆           ┆           ┆ Brazil    │\n",
              "│ Australia  ┆ [note 6]   ┆ 8600000    ┆ 3300000   ┆ 5.9%      ┆ 41261000  ┆ 0.5%      ┆ Sydney,   │\n",
              "│            ┆            ┆            ┆           ┆           ┆           ┆           ┆ Australia │\n",
              "└────────────┴────────────┴────────────┴───────────┴───────────┴───────────┴───────────┴───────────┘"
            ]
          },
          "execution_count": 24,
          "metadata": {},
          "output_type": "execute_result"
        }
      ],
      "source": [
        "df = pl.from_pandas(pd.read_html(io=\"https://en.wikipedia.org/w/index.php?title=Continent&oldid=1003389784\")[2])\n",
        "df"
      ]
    },
    {
      "cell_type": "markdown",
      "metadata": {
        "id": "VhO-gEMjfPq3"
      },
      "source": [
        "## Data Cleaning\n",
        "\n",
        "The DataFrame that was generated from importing the Wikipedia page still contains a number of errors:\n",
        "\n",
        "- There is an unnamed column that has no data.\n",
        "- A few values contain references to footnotes.\n",
        "- The percentage values include the percentage sign which Python does not understand\n",
        "\n",
        "As we cannot work with the data as-is, the data needs to be cleaned.\n",
        "\n",
        "Quite some time in any data science project goes into cleaning data and making sure that it is free of errors.\n",
        "\n",
        "**Important**: When manipulating a DataFrame, we must know that any operation always returns a copy of the DataFrame and does not change the original DataFrame. To store the new DataFrame, it is common practice to reassign the variable name the return DataFrame."
      ]
    },
    {
      "cell_type": "markdown",
      "metadata": {
        "id": "gaIweHnqne1B"
      },
      "source": [
        "### Deleting Rows and Columns\n",
        "\n",
        "There is one column called `Unnamed: 1` that does not seem to contain useful information. Let us  therfore drop this column."
      ]
    },
    {
      "cell_type": "code",
      "execution_count": 25,
      "metadata": {
        "colab": {
          "base_uri": "https://localhost:8080/",
          "height": 494
        },
        "id": "fwEPf5BE_ICo",
        "outputId": "8250eaba-c428-4857-a316-a650da6819fa"
      },
      "outputs": [
        {
          "data": {
            "text/html": [
              "<div><style>\n",
              ".dataframe > thead > tr > th,\n",
              ".dataframe > tbody > tr > td {\n",
              "  text-align: right;\n",
              "}\n",
              "</style>\n",
              "<small>shape: (7, 7)</small><table border=\"1\" class=\"dataframe\"><thead><tr><th>Continent</th><th>Area (km2) [failed verification]</th><th>Area (sq mi) [failed verification]</th><th>Percent total landmass [failed verification]</th><th>Population</th><th>Percent total pop.</th><th>Most populous city (proper)</th></tr><tr><td>str</td><td>i64</td><td>i64</td><td>str</td><td>str</td><td>str</td><td>str</td></tr></thead><tbody><tr><td>&quot;Africa&quot;</td><td>30370000</td><td>11730000</td><td>&quot;20.4%&quot;</td><td>&quot;1287920000&quot;</td><td>&quot;16.9%&quot;</td><td>&quot;Lagos, Nigeria…</td></tr><tr><td>&quot;Antarctica&quot;</td><td>14000000</td><td>5400000</td><td>&quot;9.2%&quot;</td><td>&quot;4,490[42]&quot;</td><td>&quot;0.0%&quot;</td><td>&quot;McMurdo Statio…</td></tr><tr><td>&quot;Asia&quot;</td><td>44579000</td><td>17212000</td><td>&quot;29.5%&quot;</td><td>&quot;4545133000&quot;</td><td>&quot;59.5%&quot;</td><td>&quot;Shanghai, Chin…</td></tr><tr><td>&quot;Europe&quot;</td><td>10180000</td><td>3930000</td><td>&quot;6.8%&quot;</td><td>&quot;742648000&quot;</td><td>&quot;9.7%&quot;</td><td>&quot;Moscow, Russia…</td></tr><tr><td>&quot;North America&quot;</td><td>24709000</td><td>9540000</td><td>&quot;16.5%&quot;</td><td>&quot;587615000&quot;</td><td>&quot;7.7%&quot;</td><td>&quot;Mexico City, M…</td></tr><tr><td>&quot;South America&quot;</td><td>17840000</td><td>6890000</td><td>&quot;12.0%&quot;</td><td>&quot;428240000&quot;</td><td>&quot;5.6%&quot;</td><td>&quot;São Paulo, Bra…</td></tr><tr><td>&quot;Australia&quot;</td><td>8600000</td><td>3300000</td><td>&quot;5.9%&quot;</td><td>&quot;41261000&quot;</td><td>&quot;0.5%&quot;</td><td>&quot;Sydney, Austra…</td></tr></tbody></table></div>"
            ],
            "text/plain": [
              "shape: (7, 7)\n",
              "┌──────────────┬──────────────┬─────────────┬─────────────┬────────────┬─────────────┬─────────────┐\n",
              "│ Continent    ┆ Area (km2)   ┆ Area (sq    ┆ Percent     ┆ Population ┆ Percent     ┆ Most        │\n",
              "│ ---          ┆ [failed veri ┆ mi) [failed ┆ total       ┆ ---        ┆ total pop.  ┆ populous    │\n",
              "│ str          ┆ fication]    ┆ verificatio ┆ landmass    ┆ str        ┆ ---         ┆ city        │\n",
              "│              ┆ ---          ┆ …           ┆ [failed v…  ┆            ┆ str         ┆ (proper)    │\n",
              "│              ┆ i64          ┆ ---         ┆ ---         ┆            ┆             ┆ ---         │\n",
              "│              ┆              ┆ i64         ┆ str         ┆            ┆             ┆ str         │\n",
              "╞══════════════╪══════════════╪═════════════╪═════════════╪════════════╪═════════════╪═════════════╡\n",
              "│ Africa       ┆ 30370000     ┆ 11730000    ┆ 20.4%       ┆ 1287920000 ┆ 16.9%       ┆ Lagos,      │\n",
              "│              ┆              ┆             ┆             ┆            ┆             ┆ Nigeria     │\n",
              "│ Antarctica   ┆ 14000000     ┆ 5400000     ┆ 9.2%        ┆ 4,490[42]  ┆ 0.0%        ┆ McMurdo     │\n",
              "│              ┆              ┆             ┆             ┆            ┆             ┆ Station     │\n",
              "│ Asia         ┆ 44579000     ┆ 17212000    ┆ 29.5%       ┆ 4545133000 ┆ 59.5%       ┆ Shanghai,   │\n",
              "│              ┆              ┆             ┆             ┆            ┆             ┆ China       │\n",
              "│ Europe       ┆ 10180000     ┆ 3930000     ┆ 6.8%        ┆ 742648000  ┆ 9.7%        ┆ Moscow,     │\n",
              "│              ┆              ┆             ┆             ┆            ┆             ┆ Russia[43]  │\n",
              "│ North        ┆ 24709000     ┆ 9540000     ┆ 16.5%       ┆ 587615000  ┆ 7.7%        ┆ Mexico      │\n",
              "│ America      ┆              ┆             ┆             ┆            ┆             ┆ City,       │\n",
              "│              ┆              ┆             ┆             ┆            ┆             ┆ Mexico      │\n",
              "│ South        ┆ 17840000     ┆ 6890000     ┆ 12.0%       ┆ 428240000  ┆ 5.6%        ┆ São Paulo,  │\n",
              "│ America      ┆              ┆             ┆             ┆            ┆             ┆ Brazil      │\n",
              "│ Australia    ┆ 8600000      ┆ 3300000     ┆ 5.9%        ┆ 41261000   ┆ 0.5%        ┆ Sydney,     │\n",
              "│              ┆              ┆             ┆             ┆            ┆             ┆ Australia   │\n",
              "└──────────────┴──────────────┴─────────────┴─────────────┴────────────┴─────────────┴─────────────┘"
            ]
          },
          "execution_count": 25,
          "metadata": {},
          "output_type": "execute_result"
        }
      ],
      "source": [
        "df = df.drop(\"Unnamed: 1\")\n",
        "df"
      ]
    },
    {
      "cell_type": "markdown",
      "metadata": {
        "id": "9asmuDEqQHUy"
      },
      "source": [
        "### Changing the Index\n",
        "\n",
        "The column names are a bit unhandy. Let us replace them with more readable names. One way of doing this is by changing the column names directly."
      ]
    },
    {
      "cell_type": "code",
      "execution_count": 26,
      "metadata": {
        "colab": {
          "base_uri": "https://localhost:8080/",
          "height": 329
        },
        "id": "1CR1X7YOQEmZ",
        "outputId": "8d7579e7-995a-4d79-c141-46714409fb5b"
      },
      "outputs": [
        {
          "data": {
            "text/html": [
              "<div><style>\n",
              ".dataframe > thead > tr > th,\n",
              ".dataframe > tbody > tr > td {\n",
              "  text-align: right;\n",
              "}\n",
              "</style>\n",
              "<small>shape: (7, 7)</small><table border=\"1\" class=\"dataframe\"><thead><tr><th>Continent</th><th>Area (km2)</th><th>Area (sq mi)</th><th>Pct area</th><th>Population</th><th>Pct population</th><th>Most populous city</th></tr><tr><td>str</td><td>i64</td><td>i64</td><td>str</td><td>str</td><td>str</td><td>str</td></tr></thead><tbody><tr><td>&quot;Africa&quot;</td><td>30370000</td><td>11730000</td><td>&quot;20.4%&quot;</td><td>&quot;1287920000&quot;</td><td>&quot;16.9%&quot;</td><td>&quot;Lagos, Nigeria…</td></tr><tr><td>&quot;Antarctica&quot;</td><td>14000000</td><td>5400000</td><td>&quot;9.2%&quot;</td><td>&quot;4,490[42]&quot;</td><td>&quot;0.0%&quot;</td><td>&quot;McMurdo Statio…</td></tr><tr><td>&quot;Asia&quot;</td><td>44579000</td><td>17212000</td><td>&quot;29.5%&quot;</td><td>&quot;4545133000&quot;</td><td>&quot;59.5%&quot;</td><td>&quot;Shanghai, Chin…</td></tr><tr><td>&quot;Europe&quot;</td><td>10180000</td><td>3930000</td><td>&quot;6.8%&quot;</td><td>&quot;742648000&quot;</td><td>&quot;9.7%&quot;</td><td>&quot;Moscow, Russia…</td></tr><tr><td>&quot;North America&quot;</td><td>24709000</td><td>9540000</td><td>&quot;16.5%&quot;</td><td>&quot;587615000&quot;</td><td>&quot;7.7%&quot;</td><td>&quot;Mexico City, M…</td></tr><tr><td>&quot;South America&quot;</td><td>17840000</td><td>6890000</td><td>&quot;12.0%&quot;</td><td>&quot;428240000&quot;</td><td>&quot;5.6%&quot;</td><td>&quot;São Paulo, Bra…</td></tr><tr><td>&quot;Australia&quot;</td><td>8600000</td><td>3300000</td><td>&quot;5.9%&quot;</td><td>&quot;41261000&quot;</td><td>&quot;0.5%&quot;</td><td>&quot;Sydney, Austra…</td></tr></tbody></table></div>"
            ],
            "text/plain": [
              "shape: (7, 7)\n",
              "┌───────────────┬────────────┬──────────────┬──────────┬────────────┬───────────────┬──────────────┐\n",
              "│ Continent     ┆ Area (km2) ┆ Area (sq mi) ┆ Pct area ┆ Population ┆ Pct           ┆ Most         │\n",
              "│ ---           ┆ ---        ┆ ---          ┆ ---      ┆ ---        ┆ population    ┆ populous     │\n",
              "│ str           ┆ i64        ┆ i64          ┆ str      ┆ str        ┆ ---           ┆ city         │\n",
              "│               ┆            ┆              ┆          ┆            ┆ str           ┆ ---          │\n",
              "│               ┆            ┆              ┆          ┆            ┆               ┆ str          │\n",
              "╞═══════════════╪════════════╪══════════════╪══════════╪════════════╪═══════════════╪══════════════╡\n",
              "│ Africa        ┆ 30370000   ┆ 11730000     ┆ 20.4%    ┆ 1287920000 ┆ 16.9%         ┆ Lagos,       │\n",
              "│               ┆            ┆              ┆          ┆            ┆               ┆ Nigeria      │\n",
              "│ Antarctica    ┆ 14000000   ┆ 5400000      ┆ 9.2%     ┆ 4,490[42]  ┆ 0.0%          ┆ McMurdo      │\n",
              "│               ┆            ┆              ┆          ┆            ┆               ┆ Station      │\n",
              "│ Asia          ┆ 44579000   ┆ 17212000     ┆ 29.5%    ┆ 4545133000 ┆ 59.5%         ┆ Shanghai,    │\n",
              "│               ┆            ┆              ┆          ┆            ┆               ┆ China        │\n",
              "│ Europe        ┆ 10180000   ┆ 3930000      ┆ 6.8%     ┆ 742648000  ┆ 9.7%          ┆ Moscow,      │\n",
              "│               ┆            ┆              ┆          ┆            ┆               ┆ Russia[43]   │\n",
              "│ North America ┆ 24709000   ┆ 9540000      ┆ 16.5%    ┆ 587615000  ┆ 7.7%          ┆ Mexico City, │\n",
              "│               ┆            ┆              ┆          ┆            ┆               ┆ Mexico       │\n",
              "│ South America ┆ 17840000   ┆ 6890000      ┆ 12.0%    ┆ 428240000  ┆ 5.6%          ┆ São Paulo,   │\n",
              "│               ┆            ┆              ┆          ┆            ┆               ┆ Brazil       │\n",
              "│ Australia     ┆ 8600000    ┆ 3300000      ┆ 5.9%     ┆ 41261000   ┆ 0.5%          ┆ Sydney,      │\n",
              "│               ┆            ┆              ┆          ┆            ┆               ┆ Australia    │\n",
              "└───────────────┴────────────┴──────────────┴──────────┴────────────┴───────────────┴──────────────┘"
            ]
          },
          "execution_count": 26,
          "metadata": {},
          "output_type": "execute_result"
        }
      ],
      "source": [
        "df = df.rename({\n",
        "    \"Area (km2) [failed verification]\":\"Area (km2)\",\n",
        "    \"Area (sq mi) [failed verification]\":\"Area (sq mi)\",\n",
        "    \"Percent total landmass [failed verification]\":\"Pct area\",\n",
        "    \"Percent total pop.\": \"Pct population\",\n",
        "    \"Most populous city (proper)\":\"Most populous city\"\n",
        "    })\n",
        "df"
      ]
    },
    {
      "cell_type": "markdown",
      "metadata": {
        "id": "iAnifJMw_ICq"
      },
      "source": [
        "### Converting Data Types\n",
        "\n",
        "While some columns contain only numeric value, most of them do not, so that Polars will treat those columns as categorical data. We must therefore convert these values into floats or ints.\n",
        "\n",
        "The most straightforward way is to convert categorical columns into numeric ones while ignoring values that cannot be parsed. This can be achieved with the function `cast`. By setting argument `strict=\"False\"`, any value that cannot be converted to a number will be set to `null`.\n",
        "\n"
      ]
    },
    {
      "cell_type": "code",
      "execution_count": 27,
      "metadata": {
        "colab": {
          "base_uri": "https://localhost:8080/",
          "height": 329
        },
        "id": "6EAXWltMUJxf",
        "outputId": "c9b43c56-4629-49bb-c5f2-3b19d976dc12"
      },
      "outputs": [
        {
          "data": {
            "text/html": [
              "<div><style>\n",
              ".dataframe > thead > tr > th,\n",
              ".dataframe > tbody > tr > td {\n",
              "  text-align: right;\n",
              "}\n",
              "</style>\n",
              "<small>shape: (7, 7)</small><table border=\"1\" class=\"dataframe\"><thead><tr><th>Continent</th><th>Area (km2)</th><th>Area (sq mi)</th><th>Pct area</th><th>Population</th><th>Pct population</th><th>Most populous city</th></tr><tr><td>str</td><td>i64</td><td>i64</td><td>str</td><td>i64</td><td>str</td><td>str</td></tr></thead><tbody><tr><td>&quot;Africa&quot;</td><td>30370000</td><td>11730000</td><td>&quot;20.4%&quot;</td><td>1287920000</td><td>&quot;16.9%&quot;</td><td>&quot;Lagos, Nigeria…</td></tr><tr><td>&quot;Antarctica&quot;</td><td>14000000</td><td>5400000</td><td>&quot;9.2%&quot;</td><td>null</td><td>&quot;0.0%&quot;</td><td>&quot;McMurdo Statio…</td></tr><tr><td>&quot;Asia&quot;</td><td>44579000</td><td>17212000</td><td>&quot;29.5%&quot;</td><td>4545133000</td><td>&quot;59.5%&quot;</td><td>&quot;Shanghai, Chin…</td></tr><tr><td>&quot;Europe&quot;</td><td>10180000</td><td>3930000</td><td>&quot;6.8%&quot;</td><td>742648000</td><td>&quot;9.7%&quot;</td><td>&quot;Moscow, Russia…</td></tr><tr><td>&quot;North America&quot;</td><td>24709000</td><td>9540000</td><td>&quot;16.5%&quot;</td><td>587615000</td><td>&quot;7.7%&quot;</td><td>&quot;Mexico City, M…</td></tr><tr><td>&quot;South America&quot;</td><td>17840000</td><td>6890000</td><td>&quot;12.0%&quot;</td><td>428240000</td><td>&quot;5.6%&quot;</td><td>&quot;São Paulo, Bra…</td></tr><tr><td>&quot;Australia&quot;</td><td>8600000</td><td>3300000</td><td>&quot;5.9%&quot;</td><td>41261000</td><td>&quot;0.5%&quot;</td><td>&quot;Sydney, Austra…</td></tr></tbody></table></div>"
            ],
            "text/plain": [
              "shape: (7, 7)\n",
              "┌───────────────┬────────────┬──────────────┬──────────┬────────────┬───────────────┬──────────────┐\n",
              "│ Continent     ┆ Area (km2) ┆ Area (sq mi) ┆ Pct area ┆ Population ┆ Pct           ┆ Most         │\n",
              "│ ---           ┆ ---        ┆ ---          ┆ ---      ┆ ---        ┆ population    ┆ populous     │\n",
              "│ str           ┆ i64        ┆ i64          ┆ str      ┆ i64        ┆ ---           ┆ city         │\n",
              "│               ┆            ┆              ┆          ┆            ┆ str           ┆ ---          │\n",
              "│               ┆            ┆              ┆          ┆            ┆               ┆ str          │\n",
              "╞═══════════════╪════════════╪══════════════╪══════════╪════════════╪═══════════════╪══════════════╡\n",
              "│ Africa        ┆ 30370000   ┆ 11730000     ┆ 20.4%    ┆ 1287920000 ┆ 16.9%         ┆ Lagos,       │\n",
              "│               ┆            ┆              ┆          ┆            ┆               ┆ Nigeria      │\n",
              "│ Antarctica    ┆ 14000000   ┆ 5400000      ┆ 9.2%     ┆ null       ┆ 0.0%          ┆ McMurdo      │\n",
              "│               ┆            ┆              ┆          ┆            ┆               ┆ Station      │\n",
              "│ Asia          ┆ 44579000   ┆ 17212000     ┆ 29.5%    ┆ 4545133000 ┆ 59.5%         ┆ Shanghai,    │\n",
              "│               ┆            ┆              ┆          ┆            ┆               ┆ China        │\n",
              "│ Europe        ┆ 10180000   ┆ 3930000      ┆ 6.8%     ┆ 742648000  ┆ 9.7%          ┆ Moscow,      │\n",
              "│               ┆            ┆              ┆          ┆            ┆               ┆ Russia[43]   │\n",
              "│ North America ┆ 24709000   ┆ 9540000      ┆ 16.5%    ┆ 587615000  ┆ 7.7%          ┆ Mexico City, │\n",
              "│               ┆            ┆              ┆          ┆            ┆               ┆ Mexico       │\n",
              "│ South America ┆ 17840000   ┆ 6890000      ┆ 12.0%    ┆ 428240000  ┆ 5.6%          ┆ São Paulo,   │\n",
              "│               ┆            ┆              ┆          ┆            ┆               ┆ Brazil       │\n",
              "│ Australia     ┆ 8600000    ┆ 3300000      ┆ 5.9%     ┆ 41261000   ┆ 0.5%          ┆ Sydney,      │\n",
              "│               ┆            ┆              ┆          ┆            ┆               ┆ Australia    │\n",
              "└───────────────┴────────────┴──────────────┴──────────┴────────────┴───────────────┴──────────────┘"
            ]
          },
          "execution_count": 27,
          "metadata": {},
          "output_type": "execute_result"
        }
      ],
      "source": [
        "df = df.with_columns(pl.col(\"Population\").cast(pl.Int64, strict=False))\n",
        "df"
      ]
    },
    {
      "cell_type": "markdown",
      "metadata": {
        "id": "Rnr5d7m6UKTQ"
      },
      "source": [
        "\n",
        "Since categorical columns are strings, we can use string manipulation techniques to turn them into a column of strings that can be converted to numeric values. This time we"
      ]
    },
    {
      "cell_type": "code",
      "execution_count": 28,
      "metadata": {
        "colab": {
          "base_uri": "https://localhost:8080/",
          "height": 329
        },
        "id": "U3AxtbNhVc7n",
        "outputId": "8ea5303a-e48a-44c1-c2f3-f0377bb7e632"
      },
      "outputs": [
        {
          "data": {
            "text/html": [
              "<div><style>\n",
              ".dataframe > thead > tr > th,\n",
              ".dataframe > tbody > tr > td {\n",
              "  text-align: right;\n",
              "}\n",
              "</style>\n",
              "<small>shape: (7, 7)</small><table border=\"1\" class=\"dataframe\"><thead><tr><th>Continent</th><th>Area (km2)</th><th>Area (sq mi)</th><th>Pct area</th><th>Population</th><th>Pct population</th><th>Most populous city</th></tr><tr><td>str</td><td>i64</td><td>i64</td><td>f64</td><td>i64</td><td>f64</td><td>str</td></tr></thead><tbody><tr><td>&quot;Africa&quot;</td><td>30370000</td><td>11730000</td><td>20.4</td><td>1287920000</td><td>16.9</td><td>&quot;Lagos, Nigeria…</td></tr><tr><td>&quot;Antarctica&quot;</td><td>14000000</td><td>5400000</td><td>9.2</td><td>null</td><td>0.0</td><td>&quot;McMurdo Statio…</td></tr><tr><td>&quot;Asia&quot;</td><td>44579000</td><td>17212000</td><td>29.5</td><td>4545133000</td><td>59.5</td><td>&quot;Shanghai, Chin…</td></tr><tr><td>&quot;Europe&quot;</td><td>10180000</td><td>3930000</td><td>6.8</td><td>742648000</td><td>9.7</td><td>&quot;Moscow, Russia…</td></tr><tr><td>&quot;North America&quot;</td><td>24709000</td><td>9540000</td><td>16.5</td><td>587615000</td><td>7.7</td><td>&quot;Mexico City, M…</td></tr><tr><td>&quot;South America&quot;</td><td>17840000</td><td>6890000</td><td>12.0</td><td>428240000</td><td>5.6</td><td>&quot;São Paulo, Bra…</td></tr><tr><td>&quot;Australia&quot;</td><td>8600000</td><td>3300000</td><td>5.9</td><td>41261000</td><td>0.5</td><td>&quot;Sydney, Austra…</td></tr></tbody></table></div>"
            ],
            "text/plain": [
              "shape: (7, 7)\n",
              "┌───────────────┬────────────┬──────────────┬──────────┬────────────┬───────────────┬──────────────┐\n",
              "│ Continent     ┆ Area (km2) ┆ Area (sq mi) ┆ Pct area ┆ Population ┆ Pct           ┆ Most         │\n",
              "│ ---           ┆ ---        ┆ ---          ┆ ---      ┆ ---        ┆ population    ┆ populous     │\n",
              "│ str           ┆ i64        ┆ i64          ┆ f64      ┆ i64        ┆ ---           ┆ city         │\n",
              "│               ┆            ┆              ┆          ┆            ┆ f64           ┆ ---          │\n",
              "│               ┆            ┆              ┆          ┆            ┆               ┆ str          │\n",
              "╞═══════════════╪════════════╪══════════════╪══════════╪════════════╪═══════════════╪══════════════╡\n",
              "│ Africa        ┆ 30370000   ┆ 11730000     ┆ 20.4     ┆ 1287920000 ┆ 16.9          ┆ Lagos,       │\n",
              "│               ┆            ┆              ┆          ┆            ┆               ┆ Nigeria      │\n",
              "│ Antarctica    ┆ 14000000   ┆ 5400000      ┆ 9.2      ┆ null       ┆ 0.0           ┆ McMurdo      │\n",
              "│               ┆            ┆              ┆          ┆            ┆               ┆ Station      │\n",
              "│ Asia          ┆ 44579000   ┆ 17212000     ┆ 29.5     ┆ 4545133000 ┆ 59.5          ┆ Shanghai,    │\n",
              "│               ┆            ┆              ┆          ┆            ┆               ┆ China        │\n",
              "│ Europe        ┆ 10180000   ┆ 3930000      ┆ 6.8      ┆ 742648000  ┆ 9.7           ┆ Moscow,      │\n",
              "│               ┆            ┆              ┆          ┆            ┆               ┆ Russia[43]   │\n",
              "│ North America ┆ 24709000   ┆ 9540000      ┆ 16.5     ┆ 587615000  ┆ 7.7           ┆ Mexico City, │\n",
              "│               ┆            ┆              ┆          ┆            ┆               ┆ Mexico       │\n",
              "│ South America ┆ 17840000   ┆ 6890000      ┆ 12.0     ┆ 428240000  ┆ 5.6           ┆ São Paulo,   │\n",
              "│               ┆            ┆              ┆          ┆            ┆               ┆ Brazil       │\n",
              "│ Australia     ┆ 8600000    ┆ 3300000      ┆ 5.9      ┆ 41261000   ┆ 0.5           ┆ Sydney,      │\n",
              "│               ┆            ┆              ┆          ┆            ┆               ┆ Australia    │\n",
              "└───────────────┴────────────┴──────────────┴──────────┴────────────┴───────────────┴──────────────┘"
            ]
          },
          "execution_count": 28,
          "metadata": {},
          "output_type": "execute_result"
        }
      ],
      "source": [
        "df = df.with_columns(pl.col(\"Pct population\").str.replace(\"%\",\"\").cast(pl.Float64, strict=False))\n",
        "df = df.with_columns(pl.col(\"Pct area\").str.replace(\"%\",\"\").cast(pl.Float64, strict=False))\n",
        "df"
      ]
    },
    {
      "cell_type": "markdown",
      "metadata": {
        "id": "MhdLlMjU_ICr"
      },
      "source": [
        "The column with the most populous city still contains a citation marker that could be removed. This calls for a more tailored approach. Let us define a little lambda expression that removes the brackets and anything inside. To do this, let us write a little function that splits a text string at every occurance of `[` and returns the first element of the resulting list of strings.\n"
      ]
    },
    {
      "cell_type": "code",
      "execution_count": 29,
      "metadata": {
        "colab": {
          "base_uri": "https://localhost:8080/",
          "height": 34
        },
        "id": "uruOFy2oX5UM",
        "outputId": "4576b4ac-e3b1-4ba1-a395-8cb968798364"
      },
      "outputs": [
        {
          "data": {
            "text/plain": [
              "'Moscow, Russia'"
            ]
          },
          "execution_count": 29,
          "metadata": {},
          "output_type": "execute_result"
        }
      ],
      "source": [
        "\"Moscow, Russia[43]\".split(\"[\")[0]"
      ]
    },
    {
      "cell_type": "code",
      "execution_count": 30,
      "metadata": {
        "colab": {
          "base_uri": "https://localhost:8080/",
          "height": 329
        },
        "id": "xZi7oGC1_HTZ",
        "outputId": "3bf736e9-cba7-438b-db82-0dc150ddb7b0"
      },
      "outputs": [
        {
          "data": {
            "text/html": [
              "<div><style>\n",
              ".dataframe > thead > tr > th,\n",
              ".dataframe > tbody > tr > td {\n",
              "  text-align: right;\n",
              "}\n",
              "</style>\n",
              "<small>shape: (7, 7)</small><table border=\"1\" class=\"dataframe\"><thead><tr><th>Continent</th><th>Area (km2)</th><th>Area (sq mi)</th><th>Pct area</th><th>Population</th><th>Pct population</th><th>Most populous city</th></tr><tr><td>str</td><td>i64</td><td>i64</td><td>f64</td><td>i64</td><td>f64</td><td>str</td></tr></thead><tbody><tr><td>&quot;Africa&quot;</td><td>30370000</td><td>11730000</td><td>20.4</td><td>1287920000</td><td>16.9</td><td>&quot;Lagos, Nigeria…</td></tr><tr><td>&quot;Antarctica&quot;</td><td>14000000</td><td>5400000</td><td>9.2</td><td>null</td><td>0.0</td><td>&quot;McMurdo Statio…</td></tr><tr><td>&quot;Asia&quot;</td><td>44579000</td><td>17212000</td><td>29.5</td><td>4545133000</td><td>59.5</td><td>&quot;Shanghai, Chin…</td></tr><tr><td>&quot;Europe&quot;</td><td>10180000</td><td>3930000</td><td>6.8</td><td>742648000</td><td>9.7</td><td>&quot;Moscow, Russia…</td></tr><tr><td>&quot;North America&quot;</td><td>24709000</td><td>9540000</td><td>16.5</td><td>587615000</td><td>7.7</td><td>&quot;Mexico City, M…</td></tr><tr><td>&quot;South America&quot;</td><td>17840000</td><td>6890000</td><td>12.0</td><td>428240000</td><td>5.6</td><td>&quot;São Paulo, Bra…</td></tr><tr><td>&quot;Australia&quot;</td><td>8600000</td><td>3300000</td><td>5.9</td><td>41261000</td><td>0.5</td><td>&quot;Sydney, Austra…</td></tr></tbody></table></div>"
            ],
            "text/plain": [
              "shape: (7, 7)\n",
              "┌───────────────┬────────────┬──────────────┬──────────┬────────────┬───────────────┬──────────────┐\n",
              "│ Continent     ┆ Area (km2) ┆ Area (sq mi) ┆ Pct area ┆ Population ┆ Pct           ┆ Most         │\n",
              "│ ---           ┆ ---        ┆ ---          ┆ ---      ┆ ---        ┆ population    ┆ populous     │\n",
              "│ str           ┆ i64        ┆ i64          ┆ f64      ┆ i64        ┆ ---           ┆ city         │\n",
              "│               ┆            ┆              ┆          ┆            ┆ f64           ┆ ---          │\n",
              "│               ┆            ┆              ┆          ┆            ┆               ┆ str          │\n",
              "╞═══════════════╪════════════╪══════════════╪══════════╪════════════╪═══════════════╪══════════════╡\n",
              "│ Africa        ┆ 30370000   ┆ 11730000     ┆ 20.4     ┆ 1287920000 ┆ 16.9          ┆ Lagos,       │\n",
              "│               ┆            ┆              ┆          ┆            ┆               ┆ Nigeria      │\n",
              "│ Antarctica    ┆ 14000000   ┆ 5400000      ┆ 9.2      ┆ null       ┆ 0.0           ┆ McMurdo      │\n",
              "│               ┆            ┆              ┆          ┆            ┆               ┆ Station      │\n",
              "│ Asia          ┆ 44579000   ┆ 17212000     ┆ 29.5     ┆ 4545133000 ┆ 59.5          ┆ Shanghai,    │\n",
              "│               ┆            ┆              ┆          ┆            ┆               ┆ China        │\n",
              "│ Europe        ┆ 10180000   ┆ 3930000      ┆ 6.8      ┆ 742648000  ┆ 9.7           ┆ Moscow,      │\n",
              "│               ┆            ┆              ┆          ┆            ┆               ┆ Russia       │\n",
              "│ North America ┆ 24709000   ┆ 9540000      ┆ 16.5     ┆ 587615000  ┆ 7.7           ┆ Mexico City, │\n",
              "│               ┆            ┆              ┆          ┆            ┆               ┆ Mexico       │\n",
              "│ South America ┆ 17840000   ┆ 6890000      ┆ 12.0     ┆ 428240000  ┆ 5.6           ┆ São Paulo,   │\n",
              "│               ┆            ┆              ┆          ┆            ┆               ┆ Brazil       │\n",
              "│ Australia     ┆ 8600000    ┆ 3300000      ┆ 5.9      ┆ 41261000   ┆ 0.5           ┆ Sydney,      │\n",
              "│               ┆            ┆              ┆          ┆            ┆               ┆ Australia    │\n",
              "└───────────────┴────────────┴──────────────┴──────────┴────────────┴───────────────┴──────────────┘"
            ]
          },
          "execution_count": 30,
          "metadata": {},
          "output_type": "execute_result"
        }
      ],
      "source": [
        "df = df.with_columns(pl.col(\"Most populous city\").str.replace(r\"\\[.*\\]\",\"\"))\n",
        "df"
      ]
    },
    {
      "cell_type": "markdown",
      "metadata": {
        "id": "fgQnKyM8_ICs"
      },
      "source": [
        "### Replacing Missing Values\n",
        "\n",
        "Before we can begin with our data analyses, we must verify whether our DataFrame contains missing values which are indicated as `NaN`. There are three ways of dealing with missing values:\n",
        "\n",
        "1. Dropping the rows (or columns) that contain the missing values.\n",
        "2. Replacing the missing values with actual values.\n",
        "3. Leaving the missing values but avoiding operations that do not accept `NaN`s.\n",
        "\n",
        "#### Exercises\n",
        "\n",
        "1. Drop all rows that contain `NaN` by calling the function `dropna`."
      ]
    },
    {
      "cell_type": "code",
      "execution_count": 31,
      "metadata": {
        "colab": {
          "base_uri": "https://localhost:8080/",
          "height": 299
        },
        "id": "wXqYcRGKZAMS",
        "outputId": "b2fb6452-a230-4f50-d2fe-19c558982d10"
      },
      "outputs": [
        {
          "name": "stderr",
          "output_type": "stream",
          "text": [
            "/tmp/ipykernel_2813/2926645026.py:1: DeprecationWarning: using `any` for horizontal computation is deprecated. Use `any_horizontal` instead.\n",
            "  df.filter(~pl.any(pl.all().is_null()))\n"
          ]
        },
        {
          "data": {
            "text/html": [
              "<div><style>\n",
              ".dataframe > thead > tr > th,\n",
              ".dataframe > tbody > tr > td {\n",
              "  text-align: right;\n",
              "}\n",
              "</style>\n",
              "<small>shape: (6, 7)</small><table border=\"1\" class=\"dataframe\"><thead><tr><th>Continent</th><th>Area (km2)</th><th>Area (sq mi)</th><th>Pct area</th><th>Population</th><th>Pct population</th><th>Most populous city</th></tr><tr><td>str</td><td>i64</td><td>i64</td><td>f64</td><td>i64</td><td>f64</td><td>str</td></tr></thead><tbody><tr><td>&quot;Africa&quot;</td><td>30370000</td><td>11730000</td><td>20.4</td><td>1287920000</td><td>16.9</td><td>&quot;Lagos, Nigeria…</td></tr><tr><td>&quot;Asia&quot;</td><td>44579000</td><td>17212000</td><td>29.5</td><td>4545133000</td><td>59.5</td><td>&quot;Shanghai, Chin…</td></tr><tr><td>&quot;Europe&quot;</td><td>10180000</td><td>3930000</td><td>6.8</td><td>742648000</td><td>9.7</td><td>&quot;Moscow, Russia…</td></tr><tr><td>&quot;North America&quot;</td><td>24709000</td><td>9540000</td><td>16.5</td><td>587615000</td><td>7.7</td><td>&quot;Mexico City, M…</td></tr><tr><td>&quot;South America&quot;</td><td>17840000</td><td>6890000</td><td>12.0</td><td>428240000</td><td>5.6</td><td>&quot;São Paulo, Bra…</td></tr><tr><td>&quot;Australia&quot;</td><td>8600000</td><td>3300000</td><td>5.9</td><td>41261000</td><td>0.5</td><td>&quot;Sydney, Austra…</td></tr></tbody></table></div>"
            ],
            "text/plain": [
              "shape: (6, 7)\n",
              "┌───────────┬────────────┬──────────────┬──────────┬────────────┬─────────────────┬────────────────┐\n",
              "│ Continent ┆ Area (km2) ┆ Area (sq mi) ┆ Pct area ┆ Population ┆ Pct population  ┆ Most populous  │\n",
              "│ ---       ┆ ---        ┆ ---          ┆ ---      ┆ ---        ┆ ---             ┆ city           │\n",
              "│ str       ┆ i64        ┆ i64          ┆ f64      ┆ i64        ┆ f64             ┆ ---            │\n",
              "│           ┆            ┆              ┆          ┆            ┆                 ┆ str            │\n",
              "╞═══════════╪════════════╪══════════════╪══════════╪════════════╪═════════════════╪════════════════╡\n",
              "│ Africa    ┆ 30370000   ┆ 11730000     ┆ 20.4     ┆ 1287920000 ┆ 16.9            ┆ Lagos, Nigeria │\n",
              "│ Asia      ┆ 44579000   ┆ 17212000     ┆ 29.5     ┆ 4545133000 ┆ 59.5            ┆ Shanghai,      │\n",
              "│           ┆            ┆              ┆          ┆            ┆                 ┆ China          │\n",
              "│ Europe    ┆ 10180000   ┆ 3930000      ┆ 6.8      ┆ 742648000  ┆ 9.7             ┆ Moscow, Russia │\n",
              "│ North     ┆ 24709000   ┆ 9540000      ┆ 16.5     ┆ 587615000  ┆ 7.7             ┆ Mexico City,   │\n",
              "│ America   ┆            ┆              ┆          ┆            ┆                 ┆ Mexico         │\n",
              "│ South     ┆ 17840000   ┆ 6890000      ┆ 12.0     ┆ 428240000  ┆ 5.6             ┆ São Paulo,     │\n",
              "│ America   ┆            ┆              ┆          ┆            ┆                 ┆ Brazil         │\n",
              "│ Australia ┆ 8600000    ┆ 3300000      ┆ 5.9      ┆ 41261000   ┆ 0.5             ┆ Sydney,        │\n",
              "│           ┆            ┆              ┆          ┆            ┆                 ┆ Australia      │\n",
              "└───────────┴────────────┴──────────────┴──────────┴────────────┴─────────────────┴────────────────┘"
            ]
          },
          "execution_count": 31,
          "metadata": {},
          "output_type": "execute_result"
        }
      ],
      "source": [
        "df.filter(~pl.any(pl.all().is_null()))"
      ]
    },
    {
      "cell_type": "markdown",
      "metadata": {
        "id": "Bry3C5tvFtCX"
      },
      "source": [
        "Or, we use a more convenient function that achieves the same."
      ]
    },
    {
      "cell_type": "code",
      "execution_count": 32,
      "metadata": {
        "id": "WCNq8vDnFoW3"
      },
      "outputs": [
        {
          "data": {
            "text/html": [
              "<div><style>\n",
              ".dataframe > thead > tr > th,\n",
              ".dataframe > tbody > tr > td {\n",
              "  text-align: right;\n",
              "}\n",
              "</style>\n",
              "<small>shape: (6, 7)</small><table border=\"1\" class=\"dataframe\"><thead><tr><th>Continent</th><th>Area (km2)</th><th>Area (sq mi)</th><th>Pct area</th><th>Population</th><th>Pct population</th><th>Most populous city</th></tr><tr><td>str</td><td>i64</td><td>i64</td><td>f64</td><td>i64</td><td>f64</td><td>str</td></tr></thead><tbody><tr><td>&quot;Africa&quot;</td><td>30370000</td><td>11730000</td><td>20.4</td><td>1287920000</td><td>16.9</td><td>&quot;Lagos, Nigeria…</td></tr><tr><td>&quot;Asia&quot;</td><td>44579000</td><td>17212000</td><td>29.5</td><td>4545133000</td><td>59.5</td><td>&quot;Shanghai, Chin…</td></tr><tr><td>&quot;Europe&quot;</td><td>10180000</td><td>3930000</td><td>6.8</td><td>742648000</td><td>9.7</td><td>&quot;Moscow, Russia…</td></tr><tr><td>&quot;North America&quot;</td><td>24709000</td><td>9540000</td><td>16.5</td><td>587615000</td><td>7.7</td><td>&quot;Mexico City, M…</td></tr><tr><td>&quot;South America&quot;</td><td>17840000</td><td>6890000</td><td>12.0</td><td>428240000</td><td>5.6</td><td>&quot;São Paulo, Bra…</td></tr><tr><td>&quot;Australia&quot;</td><td>8600000</td><td>3300000</td><td>5.9</td><td>41261000</td><td>0.5</td><td>&quot;Sydney, Austra…</td></tr></tbody></table></div>"
            ],
            "text/plain": [
              "shape: (6, 7)\n",
              "┌───────────┬────────────┬──────────────┬──────────┬────────────┬─────────────────┬────────────────┐\n",
              "│ Continent ┆ Area (km2) ┆ Area (sq mi) ┆ Pct area ┆ Population ┆ Pct population  ┆ Most populous  │\n",
              "│ ---       ┆ ---        ┆ ---          ┆ ---      ┆ ---        ┆ ---             ┆ city           │\n",
              "│ str       ┆ i64        ┆ i64          ┆ f64      ┆ i64        ┆ f64             ┆ ---            │\n",
              "│           ┆            ┆              ┆          ┆            ┆                 ┆ str            │\n",
              "╞═══════════╪════════════╪══════════════╪══════════╪════════════╪═════════════════╪════════════════╡\n",
              "│ Africa    ┆ 30370000   ┆ 11730000     ┆ 20.4     ┆ 1287920000 ┆ 16.9            ┆ Lagos, Nigeria │\n",
              "│ Asia      ┆ 44579000   ┆ 17212000     ┆ 29.5     ┆ 4545133000 ┆ 59.5            ┆ Shanghai,      │\n",
              "│           ┆            ┆              ┆          ┆            ┆                 ┆ China          │\n",
              "│ Europe    ┆ 10180000   ┆ 3930000      ┆ 6.8      ┆ 742648000  ┆ 9.7             ┆ Moscow, Russia │\n",
              "│ North     ┆ 24709000   ┆ 9540000      ┆ 16.5     ┆ 587615000  ┆ 7.7             ┆ Mexico City,   │\n",
              "│ America   ┆            ┆              ┆          ┆            ┆                 ┆ Mexico         │\n",
              "│ South     ┆ 17840000   ┆ 6890000      ┆ 12.0     ┆ 428240000  ┆ 5.6             ┆ São Paulo,     │\n",
              "│ America   ┆            ┆              ┆          ┆            ┆                 ┆ Brazil         │\n",
              "│ Australia ┆ 8600000    ┆ 3300000      ┆ 5.9      ┆ 41261000   ┆ 0.5             ┆ Sydney,        │\n",
              "│           ┆            ┆              ┆          ┆            ┆                 ┆ Australia      │\n",
              "└───────────┴────────────┴──────────────┴──────────┴────────────┴─────────────────┴────────────────┘"
            ]
          },
          "execution_count": 32,
          "metadata": {},
          "output_type": "execute_result"
        }
      ],
      "source": [
        "df = df.drop_nulls()\n",
        "df"
      ]
    },
    {
      "cell_type": "markdown",
      "metadata": {
        "id": "eD7Ecql8_ICv"
      },
      "source": [
        "2. Now drop the column with area in square miles and rename the column \"Area (km2)\" to \"Area\"."
      ]
    },
    {
      "cell_type": "code",
      "execution_count": 33,
      "metadata": {
        "colab": {
          "base_uri": "https://localhost:8080/",
          "height": 299
        },
        "id": "oAhtvjyj_ICv",
        "outputId": "eba32d41-922e-47f8-e550-4cd869bf594b"
      },
      "outputs": [
        {
          "data": {
            "text/html": [
              "<div><style>\n",
              ".dataframe > thead > tr > th,\n",
              ".dataframe > tbody > tr > td {\n",
              "  text-align: right;\n",
              "}\n",
              "</style>\n",
              "<small>shape: (6, 6)</small><table border=\"1\" class=\"dataframe\"><thead><tr><th>Continent</th><th>area</th><th>Pct area</th><th>Population</th><th>Pct population</th><th>Most populous city</th></tr><tr><td>str</td><td>i64</td><td>f64</td><td>i64</td><td>f64</td><td>str</td></tr></thead><tbody><tr><td>&quot;Africa&quot;</td><td>30370000</td><td>20.4</td><td>1287920000</td><td>16.9</td><td>&quot;Lagos, Nigeria…</td></tr><tr><td>&quot;Asia&quot;</td><td>44579000</td><td>29.5</td><td>4545133000</td><td>59.5</td><td>&quot;Shanghai, Chin…</td></tr><tr><td>&quot;Europe&quot;</td><td>10180000</td><td>6.8</td><td>742648000</td><td>9.7</td><td>&quot;Moscow, Russia…</td></tr><tr><td>&quot;North America&quot;</td><td>24709000</td><td>16.5</td><td>587615000</td><td>7.7</td><td>&quot;Mexico City, M…</td></tr><tr><td>&quot;South America&quot;</td><td>17840000</td><td>12.0</td><td>428240000</td><td>5.6</td><td>&quot;São Paulo, Bra…</td></tr><tr><td>&quot;Australia&quot;</td><td>8600000</td><td>5.9</td><td>41261000</td><td>0.5</td><td>&quot;Sydney, Austra…</td></tr></tbody></table></div>"
            ],
            "text/plain": [
              "shape: (6, 6)\n",
              "┌───────────────┬──────────┬──────────┬────────────┬────────────────┬─────────────────────┐\n",
              "│ Continent     ┆ area     ┆ Pct area ┆ Population ┆ Pct population ┆ Most populous city  │\n",
              "│ ---           ┆ ---      ┆ ---      ┆ ---        ┆ ---            ┆ ---                 │\n",
              "│ str           ┆ i64      ┆ f64      ┆ i64        ┆ f64            ┆ str                 │\n",
              "╞═══════════════╪══════════╪══════════╪════════════╪════════════════╪═════════════════════╡\n",
              "│ Africa        ┆ 30370000 ┆ 20.4     ┆ 1287920000 ┆ 16.9           ┆ Lagos, Nigeria      │\n",
              "│ Asia          ┆ 44579000 ┆ 29.5     ┆ 4545133000 ┆ 59.5           ┆ Shanghai, China     │\n",
              "│ Europe        ┆ 10180000 ┆ 6.8      ┆ 742648000  ┆ 9.7            ┆ Moscow, Russia      │\n",
              "│ North America ┆ 24709000 ┆ 16.5     ┆ 587615000  ┆ 7.7            ┆ Mexico City, Mexico │\n",
              "│ South America ┆ 17840000 ┆ 12.0     ┆ 428240000  ┆ 5.6            ┆ São Paulo, Brazil   │\n",
              "│ Australia     ┆ 8600000  ┆ 5.9      ┆ 41261000   ┆ 0.5            ┆ Sydney, Australia   │\n",
              "└───────────────┴──────────┴──────────┴────────────┴────────────────┴─────────────────────┘"
            ]
          },
          "execution_count": 33,
          "metadata": {},
          "output_type": "execute_result"
        }
      ],
      "source": [
        "df = (df\n",
        "      .drop(\"Area (sq mi)\")\n",
        "      .rename({\"Area (km2)\":\"area\"})\n",
        ")\n",
        "df"
      ]
    },
    {
      "cell_type": "markdown",
      "metadata": {
        "id": "n4Ptt_lk_ICx"
      },
      "source": [
        "3. Strip the country information from the column  \"Most populous city\"."
      ]
    },
    {
      "cell_type": "code",
      "execution_count": 34,
      "metadata": {
        "colab": {
          "base_uri": "https://localhost:8080/",
          "height": 299
        },
        "id": "D7dcbCUC-9Yt",
        "outputId": "77a62230-a001-4dcf-8c45-f003fefe2d88"
      },
      "outputs": [
        {
          "data": {
            "text/html": [
              "<div><style>\n",
              ".dataframe > thead > tr > th,\n",
              ".dataframe > tbody > tr > td {\n",
              "  text-align: right;\n",
              "}\n",
              "</style>\n",
              "<small>shape: (6, 6)</small><table border=\"1\" class=\"dataframe\"><thead><tr><th>Continent</th><th>area</th><th>Pct area</th><th>Population</th><th>Pct population</th><th>Most populous city</th></tr><tr><td>str</td><td>i64</td><td>f64</td><td>i64</td><td>f64</td><td>str</td></tr></thead><tbody><tr><td>&quot;Africa&quot;</td><td>30370000</td><td>20.4</td><td>1287920000</td><td>16.9</td><td>&quot;Lagos&quot;</td></tr><tr><td>&quot;Asia&quot;</td><td>44579000</td><td>29.5</td><td>4545133000</td><td>59.5</td><td>&quot;Shanghai&quot;</td></tr><tr><td>&quot;Europe&quot;</td><td>10180000</td><td>6.8</td><td>742648000</td><td>9.7</td><td>&quot;Moscow&quot;</td></tr><tr><td>&quot;North America&quot;</td><td>24709000</td><td>16.5</td><td>587615000</td><td>7.7</td><td>&quot;Mexico City&quot;</td></tr><tr><td>&quot;South America&quot;</td><td>17840000</td><td>12.0</td><td>428240000</td><td>5.6</td><td>&quot;São Paulo&quot;</td></tr><tr><td>&quot;Australia&quot;</td><td>8600000</td><td>5.9</td><td>41261000</td><td>0.5</td><td>&quot;Sydney&quot;</td></tr></tbody></table></div>"
            ],
            "text/plain": [
              "shape: (6, 6)\n",
              "┌───────────────┬──────────┬──────────┬────────────┬────────────────┬────────────────────┐\n",
              "│ Continent     ┆ area     ┆ Pct area ┆ Population ┆ Pct population ┆ Most populous city │\n",
              "│ ---           ┆ ---      ┆ ---      ┆ ---        ┆ ---            ┆ ---                │\n",
              "│ str           ┆ i64      ┆ f64      ┆ i64        ┆ f64            ┆ str                │\n",
              "╞═══════════════╪══════════╪══════════╪════════════╪════════════════╪════════════════════╡\n",
              "│ Africa        ┆ 30370000 ┆ 20.4     ┆ 1287920000 ┆ 16.9           ┆ Lagos              │\n",
              "│ Asia          ┆ 44579000 ┆ 29.5     ┆ 4545133000 ┆ 59.5           ┆ Shanghai           │\n",
              "│ Europe        ┆ 10180000 ┆ 6.8      ┆ 742648000  ┆ 9.7            ┆ Moscow             │\n",
              "│ North America ┆ 24709000 ┆ 16.5     ┆ 587615000  ┆ 7.7            ┆ Mexico City        │\n",
              "│ South America ┆ 17840000 ┆ 12.0     ┆ 428240000  ┆ 5.6            ┆ São Paulo          │\n",
              "│ Australia     ┆ 8600000  ┆ 5.9      ┆ 41261000   ┆ 0.5            ┆ Sydney             │\n",
              "└───────────────┴──────────┴──────────┴────────────┴────────────────┴────────────────────┘"
            ]
          },
          "execution_count": 34,
          "metadata": {},
          "output_type": "execute_result"
        }
      ],
      "source": [
        "df.with_columns(pl.col(\"Most populous city\").str.replace(r\",(.*)\",\"\"))"
      ]
    }
  ],
  "metadata": {
    "colab": {
      "provenance": []
    },
    "kernelspec": {
      "display_name": "Python 3",
      "language": "python",
      "name": "python3"
    },
    "language_info": {
      "codemirror_mode": {
        "name": "ipython",
        "version": 3
      },
      "file_extension": ".py",
      "mimetype": "text/x-python",
      "name": "python",
      "nbconvert_exporter": "python",
      "pygments_lexer": "ipython3",
      "version": "3.10.8"
    }
  },
  "nbformat": 4,
  "nbformat_minor": 0
}
