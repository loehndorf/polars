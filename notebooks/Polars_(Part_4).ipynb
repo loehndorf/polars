{
  "cells": [
    {
      "cell_type": "markdown",
      "metadata": {
        "id": "rOEshVyOrYs9"
      },
      "source": [
        "# Polars: Part 4 - Working with Large Data Sets\n",
        "\n",
        "There is a stark difference between large data and big data. Large data typically refers to data sets that are too large to fit into system memory but still not too large to fit on your machines hard drive. Big data by contrast is truly too large to even fit on a single hard drive and is often distributed over multiple machines on a network.\n",
        "\n",
        "Nonetheless, working with large data sets poses a challenge, because it requires careful consideration of how to import, transform, and analyze this data. Unlike Pandas, the Polars package allows so called lazy evaluations, which means that any aggregations, transformation, or operation on the data will only be performed when the result is actually needed. This enables Polars to perform some optimizations in the background that order these operations in the most efficient way as well as avoid piling up copies and copies of DataFrames in memory.\n",
        "\n",
        "Let us begin by importing `polars` into our namespace."
      ]
    },
    {
      "cell_type": "code",
      "execution_count": 1,
      "metadata": {
        "id": "OfYkv7RBVLwr"
      },
      "outputs": [],
      "source": [
        "import polars as pl"
      ]
    },
    {
      "cell_type": "markdown",
      "metadata": {
        "id": "JmIxowxEVJhj"
      },
      "source": [
        "\n",
        "\n",
        "##  Hard Drive Stats\n",
        "\n",
        "For our example, we will work with [hard drive stats from Backblaze](https://www.backblaze.com/blog/backblaze-hard-drive-stats-q3-2020/) which is a provider of cloud storage. Backblaze collects and publishes statistical data of its hard drives, including internal data reported by the drives. In return, it hopes to get help from the data science community on how to better predict hard drive failures.\n",
        "\n"
      ]
    },
    {
      "cell_type": "markdown",
      "metadata": {
        "id": "a_w_Zr7X1Ojt"
      },
      "source": [
        "### Reading Multiple Files\n",
        "\n",
        "Let us download their harddrive stats from 2021. The stats are split up into multiple CSV file compressed into a single ZIP file. \n",
        "\n",
        "#### In-class exercise\n",
        "\n",
        "Use Copilot to craft a little function that requests a number of zip files from the following URLs:\n",
        "- https://f001.backblazeb2.com/file/Backblaze-Hard-Drive-Data/data_Q1_2020.zip\n",
        "- https://f001.backblazeb2.com/file/Backblaze-Hard-Drive-Data/data_Q2_2020.zip\n",
        "- https://f001.backblazeb2.com/file/Backblaze-Hard-Drive-Data/data_Q3_2020.zip\n",
        "- https://f001.backblazeb2.com/file/Backblaze-Hard-Drive-Data/data_Q4_2020.zip\n",
        "\n",
        "The function then unpacks the files into the directors ```csvs/``` and returns a list that contains the path names of each CSV."
      ]
    },
    {
      "cell_type": "code",
      "execution_count": null,
      "metadata": {},
      "outputs": [],
      "source": [
        "# python function that downloads a zip from a given url, unpacks it into a given directory and deletes the zip file and returns the content as a list of file names\n",
        "def download(urls, directory):\n",
        "    import requests, zipfile, io\n",
        "    lst = []\n",
        "    for url in urls:\n",
        "        r = requests.get(url)\n",
        "        z = zipfile.ZipFile(io.BytesIO(r.content))\n",
        "        z.extractall(directory)\n",
        "        lst.append(z.namelist())\n",
        "        z.close()\n",
        "    return lst\n",
        "\n",
        "csvs = download([f\"https://f001.backblazeb2.com/file/Backblaze-Hard-Drive-Data/data_Q{i}_2020.zip\" for i in [1,2,3,4]], \"csvs/\")"
      ]
    },
    {
      "cell_type": "markdown",
      "metadata": {
        "id": "WmprzpvJeG_8"
      },
      "source": [
        "## Lazy DataFrames\n",
        "\n",
        "We now have a large director full of CVSs that consumes about 16g of disk space. That is large enough to cause some trouble when importing all that data into a single DataFrame. \n",
        "\n",
        "Instead of using ```read_csv```, we are now going to import a lazy DataFrame using ```scan_csv```. The advantage is that Polars will only begin importing the data after the function ```collect``` has been called. This gives us the chance to select only those columns that we are actually interested in. Let's take a peek at the data and see what secrets it holds for us."
      ]
    },
    {
      "cell_type": "code",
      "execution_count": 2,
      "metadata": {},
      "outputs": [
        {
          "data": {
            "text/html": [
              "<div><style>\n",
              ".dataframe > thead > tr > th,\n",
              ".dataframe > tbody > tr > td {\n",
              "  text-align: right;\n",
              "}\n",
              "</style>\n",
              "<small>shape: (1, 131)</small><table border=\"1\" class=\"dataframe\"><thead><tr><th>date</th><th>serial_number</th><th>model</th><th>capacity_bytes</th><th>failure</th><th>smart_1_normalized</th><th>smart_1_raw</th><th>smart_2_normalized</th><th>smart_2_raw</th><th>smart_3_normalized</th><th>smart_3_raw</th><th>smart_4_normalized</th><th>smart_4_raw</th><th>smart_5_normalized</th><th>smart_5_raw</th><th>smart_7_normalized</th><th>smart_7_raw</th><th>smart_8_normalized</th><th>smart_8_raw</th><th>smart_9_normalized</th><th>smart_9_raw</th><th>smart_10_normalized</th><th>smart_10_raw</th><th>smart_11_normalized</th><th>smart_11_raw</th><th>smart_12_normalized</th><th>smart_12_raw</th><th>smart_13_normalized</th><th>smart_13_raw</th><th>smart_15_normalized</th><th>smart_15_raw</th><th>smart_16_normalized</th><th>smart_16_raw</th><th>smart_17_normalized</th><th>smart_17_raw</th><th>smart_18_normalized</th><th>smart_18_raw</th><th>&hellip;</th><th>smart_218_raw</th><th>smart_220_normalized</th><th>smart_220_raw</th><th>smart_222_normalized</th><th>smart_222_raw</th><th>smart_223_normalized</th><th>smart_223_raw</th><th>smart_224_normalized</th><th>smart_224_raw</th><th>smart_225_normalized</th><th>smart_225_raw</th><th>smart_226_normalized</th><th>smart_226_raw</th><th>smart_231_normalized</th><th>smart_231_raw</th><th>smart_232_normalized</th><th>smart_232_raw</th><th>smart_233_normalized</th><th>smart_233_raw</th><th>smart_235_normalized</th><th>smart_235_raw</th><th>smart_240_normalized</th><th>smart_240_raw</th><th>smart_241_normalized</th><th>smart_241_raw</th><th>smart_242_normalized</th><th>smart_242_raw</th><th>smart_250_normalized</th><th>smart_250_raw</th><th>smart_251_normalized</th><th>smart_251_raw</th><th>smart_252_normalized</th><th>smart_252_raw</th><th>smart_254_normalized</th><th>smart_254_raw</th><th>smart_255_normalized</th><th>smart_255_raw</th></tr><tr><td>object</td><td>object</td><td>object</td><td>object</td><td>object</td><td>object</td><td>object</td><td>object</td><td>object</td><td>object</td><td>object</td><td>object</td><td>object</td><td>object</td><td>object</td><td>object</td><td>object</td><td>object</td><td>object</td><td>object</td><td>object</td><td>object</td><td>object</td><td>object</td><td>object</td><td>object</td><td>object</td><td>object</td><td>object</td><td>object</td><td>object</td><td>object</td><td>object</td><td>object</td><td>object</td><td>object</td><td>object</td><td>&hellip;</td><td>object</td><td>object</td><td>object</td><td>object</td><td>object</td><td>object</td><td>object</td><td>object</td><td>object</td><td>object</td><td>object</td><td>object</td><td>object</td><td>object</td><td>object</td><td>object</td><td>object</td><td>object</td><td>object</td><td>object</td><td>object</td><td>object</td><td>object</td><td>object</td><td>object</td><td>object</td><td>object</td><td>object</td><td>object</td><td>object</td><td>object</td><td>object</td><td>object</td><td>object</td><td>object</td><td>object</td><td>object</td></tr></thead><tbody><tr><td>Utf8</td><td>Utf8</td><td>Utf8</td><td>Int64</td><td>Int64</td><td>Int64</td><td>Int64</td><td>Int64</td><td>Int64</td><td>Int64</td><td>Int64</td><td>Int64</td><td>Int64</td><td>Int64</td><td>Int64</td><td>Int64</td><td>Int64</td><td>Int64</td><td>Int64</td><td>Int64</td><td>Int64</td><td>Int64</td><td>Int64</td><td>Utf8</td><td>Utf8</td><td>Int64</td><td>Int64</td><td>Utf8</td><td>Utf8</td><td>Utf8</td><td>Utf8</td><td>Utf8</td><td>Utf8</td><td>Utf8</td><td>Utf8</td><td>Int64</td><td>Int64</td><td>&hellip;</td><td>Utf8</td><td>Int64</td><td>Int64</td><td>Int64</td><td>Int64</td><td>Int64</td><td>Int64</td><td>Int64</td><td>Int64</td><td>Utf8</td><td>Utf8</td><td>Int64</td><td>Int64</td><td>Utf8</td><td>Utf8</td><td>Utf8</td><td>Utf8</td><td>Utf8</td><td>Utf8</td><td>Utf8</td><td>Utf8</td><td>Int64</td><td>Int64</td><td>Int64</td><td>Int64</td><td>Int64</td><td>Int64</td><td>Utf8</td><td>Utf8</td><td>Utf8</td><td>Utf8</td><td>Utf8</td><td>Utf8</td><td>Utf8</td><td>Utf8</td><td>Utf8</td><td>Utf8</td></tr></tbody></table></div>"
            ],
            "text/plain": [
              "shape: (1, 131)\n",
              "┌────────┬────────────┬────────┬────────────┬───┬────────────┬────────────┬────────────┬───────────┐\n",
              "│ date   ┆ serial_num ┆ model  ┆ capacity_b ┆ … ┆ smart_254_ ┆ smart_254_ ┆ smart_255_ ┆ smart_255 │\n",
              "│ ---    ┆ ber        ┆ ---    ┆ ytes       ┆   ┆ normalized ┆ raw        ┆ normalized ┆ _raw      │\n",
              "│ object ┆ ---        ┆ object ┆ ---        ┆   ┆ ---        ┆ ---        ┆ ---        ┆ ---       │\n",
              "│        ┆ object     ┆        ┆ object     ┆   ┆ object     ┆ object     ┆ object     ┆ object    │\n",
              "╞════════╪════════════╪════════╪════════════╪═══╪════════════╪════════════╪════════════╪═══════════╡\n",
              "│ Utf8   ┆ Utf8       ┆ Utf8   ┆ Int64      ┆ … ┆ Utf8       ┆ Utf8       ┆ Utf8       ┆ Utf8      │\n",
              "└────────┴────────────┴────────┴────────────┴───┴────────────┴────────────┴────────────┴───────────┘"
            ]
          },
          "execution_count": 2,
          "metadata": {},
          "output_type": "execute_result"
        }
      ],
      "source": [
        "lazy_df = pl.scan_csv(\"csvs/*.csv\")\n",
        "pl.DataFrame(lazy_df.schema)\n"
      ]
    },
    {
      "cell_type": "markdown",
      "metadata": {},
      "source": [
        "That was quick! As we can see, the data contains information on the status of the drive on each day, information on the drive, as well as so-scalled smart stats. While the smart stats may indeed be interesting if we were to build a predictive model, we don't need them to calculate the drive days. Instead, we are going to select all columns but those that start with smart and then transform the date column."
      ]
    },
    {
      "cell_type": "code",
      "execution_count": 3,
      "metadata": {
        "colab": {
          "base_uri": "https://localhost:8080/",
          "height": 906
        },
        "id": "_6rGC3bpVYoG",
        "outputId": "b3c710f9-5f85-4816-a364-5379761c474d"
      },
      "outputs": [
        {
          "data": {
            "text/html": [
              "<div><style>\n",
              ".dataframe > thead > tr > th,\n",
              ".dataframe > tbody > tr > td {\n",
              "  text-align: right;\n",
              "}\n",
              "</style>\n",
              "<small>shape: (9, 6)</small><table border=\"1\" class=\"dataframe\"><thead><tr><th>describe</th><th>date</th><th>serial_number</th><th>model</th><th>capacity_bytes</th><th>failure</th></tr><tr><td>str</td><td>str</td><td>str</td><td>str</td><td>f64</td><td>f64</td></tr></thead><tbody><tr><td>&quot;count&quot;</td><td>&quot;52286398&quot;</td><td>&quot;52286398&quot;</td><td>&quot;52286398&quot;</td><td>5.2286398e7</td><td>5.2286398e7</td></tr><tr><td>&quot;null_count&quot;</td><td>&quot;0&quot;</td><td>&quot;0&quot;</td><td>&quot;0&quot;</td><td>0.0</td><td>0.0</td></tr><tr><td>&quot;mean&quot;</td><td>null</td><td>null</td><td>null</td><td>9.2556e12</td><td>0.000029</td></tr><tr><td>&quot;std&quot;</td><td>null</td><td>null</td><td>null</td><td>3.7512e12</td><td>0.005347</td></tr><tr><td>&quot;min&quot;</td><td>&quot;2020-01-01&quot;</td><td>&quot;0564f6f3fab900…</td><td>&quot;DELLBOSS VD&quot;</td><td>-1.0</td><td>0.0</td></tr><tr><td>&quot;25%&quot;</td><td>null</td><td>null</td><td>null</td><td>4.0008e12</td><td>0.0</td></tr><tr><td>&quot;50%&quot;</td><td>null</td><td>null</td><td>null</td><td>1.2000e13</td><td>0.0</td></tr><tr><td>&quot;75%&quot;</td><td>null</td><td>null</td><td>null</td><td>1.2000e13</td><td>0.0</td></tr><tr><td>&quot;max&quot;</td><td>&quot;2020-12-31&quot;</td><td>&quot;fe78b975bfab00…</td><td>&quot;WDC WUH721414A…</td><td>1.8000e13</td><td>1.0</td></tr></tbody></table></div>"
            ],
            "text/plain": [
              "shape: (9, 6)\n",
              "┌────────────┬────────────┬──────────────────┬─────────────────────┬────────────────┬─────────────┐\n",
              "│ describe   ┆ date       ┆ serial_number    ┆ model               ┆ capacity_bytes ┆ failure     │\n",
              "│ ---        ┆ ---        ┆ ---              ┆ ---                 ┆ ---            ┆ ---         │\n",
              "│ str        ┆ str        ┆ str              ┆ str                 ┆ f64            ┆ f64         │\n",
              "╞════════════╪════════════╪══════════════════╪═════════════════════╪════════════════╪═════════════╡\n",
              "│ count      ┆ 52286398   ┆ 52286398         ┆ 52286398            ┆ 5.2286398e7    ┆ 5.2286398e7 │\n",
              "│ null_count ┆ 0          ┆ 0                ┆ 0                   ┆ 0.0            ┆ 0.0         │\n",
              "│ mean       ┆ null       ┆ null             ┆ null                ┆ 9.2556e12      ┆ 0.000029    │\n",
              "│ std        ┆ null       ┆ null             ┆ null                ┆ 3.7512e12      ┆ 0.005347    │\n",
              "│ min        ┆ 2020-01-01 ┆ 0564f6f3fab90010 ┆ DELLBOSS VD         ┆ -1.0           ┆ 0.0         │\n",
              "│ 25%        ┆ null       ┆ null             ┆ null                ┆ 4.0008e12      ┆ 0.0         │\n",
              "│ 50%        ┆ null       ┆ null             ┆ null                ┆ 1.2000e13      ┆ 0.0         │\n",
              "│ 75%        ┆ null       ┆ null             ┆ null                ┆ 1.2000e13      ┆ 0.0         │\n",
              "│ max        ┆ 2020-12-31 ┆ fe78b975bfab0010 ┆ WDC WUH721414ALE6L4 ┆ 1.8000e13      ┆ 1.0         │\n",
              "└────────────┴────────────┴──────────────────┴─────────────────────┴────────────────┴─────────────┘"
            ]
          },
          "execution_count": 3,
          "metadata": {},
          "output_type": "execute_result"
        }
      ],
      "source": [
        "df = (lazy_df\n",
        "  .select([\"date\",\"serial_number\",\"model\",\"capacity_bytes\",\"failure\"])\n",
        "  .with_columns(pl.col(\"date\").str.strptime(pl.Date))\n",
        "  .collect()\n",
        ")\n",
        "df.describe()"
      ]
    },
    {
      "cell_type": "markdown",
      "metadata": {
        "id": "wJ4iPbBheej7"
      },
      "source": [
        "The final data set has 52.3m rows. What is important is that we explicitly labeled the columns that we wanted to import to save memory. Despite of this, we still end up with about 8g of data in memory."
      ]
    },
    {
      "cell_type": "markdown",
      "metadata": {},
      "source": [
        "## Parquet Format\n",
        "\n",
        "A useful format for storing DataFrames is the parquet format. Parquet is an open source, column-oriented data file format that provides efficient data compression and data type encoding to handle complex data in bulk. Unlike CSVs it will be able to store datetime objects as such an not convert them to strings."
      ]
    },
    {
      "cell_type": "code",
      "execution_count": null,
      "metadata": {},
      "outputs": [],
      "source": [
        "df.write_parquet(\"concat_data_2021.parquet\")"
      ]
    },
    {
      "cell_type": "markdown",
      "metadata": {},
      "source": [
        "## Exercises\n",
        "\n",
        "Let us now calculate the drive days..."
      ]
    },
    {
      "cell_type": "code",
      "execution_count": 11,
      "metadata": {
        "colab": {
          "base_uri": "https://localhost:8080/",
          "height": 872
        },
        "id": "YbXyyvJNe8eV",
        "outputId": "7e8ce2f4-cab6-4215-9e46-afc88f0ea97b"
      },
      "outputs": [
        {
          "data": {
            "text/html": [
              "<div><style>\n",
              ".dataframe > thead > tr > th,\n",
              ".dataframe > tbody > tr > td {\n",
              "  text-align: right;\n",
              "}\n",
              "</style>\n",
              "<small>shape: (10, 5)</small><table border=\"1\" class=\"dataframe\"><thead><tr><th>serial_number</th><th>drivedays</th><th>model</th><th>capacity_bytes</th><th>failure</th></tr><tr><td>str</td><td>i64</td><td>str</td><td>i64</td><td>i64</td></tr></thead><tbody><tr><td>&quot;ZLW18E7Q&quot;</td><td>108</td><td>&quot;ST14000NM001G&quot;</td><td>14000519643136</td><td>0</td></tr><tr><td>&quot;ZJV2EMNP&quot;</td><td>182</td><td>&quot;ST12000NM0007&quot;</td><td>12000138625024</td><td>0</td></tr><tr><td>&quot;S300X152&quot;</td><td>365</td><td>&quot;ST4000DM000&quot;</td><td>4000787030016</td><td>0</td></tr><tr><td>&quot;ZA14ELAJ&quot;</td><td>365</td><td>&quot;ST8000NM0055&quot;</td><td>8001563222016</td><td>0</td></tr><tr><td>&quot;ZA14ELXG&quot;</td><td>365</td><td>&quot;ST8000NM0055&quot;</td><td>8001563222016</td><td>0</td></tr><tr><td>&quot;Z305D6YV&quot;</td><td>365</td><td>&quot;ST4000DM000&quot;</td><td>4000787030016</td><td>0</td></tr><tr><td>&quot;ZCH0CY1X&quot;</td><td>155</td><td>&quot;ST12000NM0007&quot;</td><td>12000138625024</td><td>0</td></tr><tr><td>&quot;PL1331LAHEPRKH…</td><td>365</td><td>&quot;HGST HMS5C4040…</td><td>4000787030016</td><td>0</td></tr><tr><td>&quot;ZJV4PQHV&quot;</td><td>281</td><td>&quot;ST12000NM0007&quot;</td><td>12000138625024</td><td>0</td></tr><tr><td>&quot;ZA17Z5CZ&quot;</td><td>365</td><td>&quot;ST8000NM0055&quot;</td><td>8001563222016</td><td>0</td></tr></tbody></table></div>"
            ],
            "text/plain": [
              "shape: (10, 5)\n",
              "┌────────────────┬───────────┬──────────────────────┬────────────────┬─────────┐\n",
              "│ serial_number  ┆ drivedays ┆ model                ┆ capacity_bytes ┆ failure │\n",
              "│ ---            ┆ ---       ┆ ---                  ┆ ---            ┆ ---     │\n",
              "│ str            ┆ i64       ┆ str                  ┆ i64            ┆ i64     │\n",
              "╞════════════════╪═══════════╪══════════════════════╪════════════════╪═════════╡\n",
              "│ ZLW18E7Q       ┆ 108       ┆ ST14000NM001G        ┆ 14000519643136 ┆ 0       │\n",
              "│ ZJV2EMNP       ┆ 182       ┆ ST12000NM0007        ┆ 12000138625024 ┆ 0       │\n",
              "│ S300X152       ┆ 365       ┆ ST4000DM000          ┆ 4000787030016  ┆ 0       │\n",
              "│ ZA14ELAJ       ┆ 365       ┆ ST8000NM0055         ┆ 8001563222016  ┆ 0       │\n",
              "│ …              ┆ …         ┆ …                    ┆ …              ┆ …       │\n",
              "│ ZCH0CY1X       ┆ 155       ┆ ST12000NM0007        ┆ 12000138625024 ┆ 0       │\n",
              "│ PL1331LAHEPRKH ┆ 365       ┆ HGST HMS5C4040BLE640 ┆ 4000787030016  ┆ 0       │\n",
              "│ ZJV4PQHV       ┆ 281       ┆ ST12000NM0007        ┆ 12000138625024 ┆ 0       │\n",
              "│ ZA17Z5CZ       ┆ 365       ┆ ST8000NM0055         ┆ 8001563222016  ┆ 0       │\n",
              "└────────────────┴───────────┴──────────────────────┴────────────────┴─────────┘"
            ]
          },
          "execution_count": 11,
          "metadata": {},
          "output_type": "execute_result"
        }
      ],
      "source": [
        "drive_days = df.groupby(\"serial_number\").agg(\n",
        "    pl.col(\"date\").apply(lambda x:(x.max()-x.min()).days).alias(\"drivedays\"),\n",
        "    pl.exclude(\"date\").apply(pl.first)\n",
        "    )\n",
        "drive_days.sample(10)"
      ]
    },
    {
      "cell_type": "code",
      "execution_count": 13,
      "metadata": {},
      "outputs": [
        {
          "data": {
            "application/vnd.plotly.v1+json": {
              "config": {
                "plotlyServerURL": "https://plot.ly"
              },
              "data": [
                {
                  "alignmentgroup": "True",
                  "hovertemplate": "drivedays=%{x}<br>model=%{y}<extra></extra>",
                  "legendgroup": "",
                  "marker": {
                    "color": "#636efa",
                    "pattern": {
                      "shape": ""
                    }
                  },
                  "name": "",
                  "offsetgroup": "",
                  "orientation": "h",
                  "showlegend": false,
                  "textposition": "auto",
                  "type": "bar",
                  "x": [
                    0,
                    0,
                    24,
                    30,
                    30,
                    32.30769230769231,
                    34.310344827586206,
                    38.066430020283974,
                    45.63157894736842,
                    63,
                    75.50066666666666,
                    92.87096774193549,
                    103.75218216318785,
                    115.45073891625616,
                    155.5,
                    180.02513615416842,
                    193.06662253534446,
                    212,
                    238,
                    274.0218282434925,
                    275.86206896551727,
                    276.12142857142857,
                    283.6666666666667,
                    318.2079646017699,
                    319.0049846625767,
                    319.7691853442491,
                    334,
                    344.0834879406308,
                    347.630749437118,
                    348.79904306220095,
                    349.6393442622951,
                    352.19367588932806,
                    352.8942307692308,
                    354.3833333333333,
                    355.8076923076923,
                    359.6666666666667,
                    359.99917830731306,
                    361.42959967096243,
                    361.6666666666667,
                    361.7155963302752,
                    361.9625799074892,
                    362.4271086780211,
                    363.66685042263873,
                    363.9317577085616,
                    364.17454954954957,
                    365,
                    365,
                    365,
                    365,
                    365,
                    365,
                    365,
                    365,
                    365,
                    365,
                    365,
                    365,
                    365,
                    365
                  ],
                  "xaxis": "x",
                  "y": [
                    "ST16000NM005G",
                    "SSDSCKKB480G8R",
                    "ST14000NM0018",
                    "TOSHIBA MG07ACA14TEY",
                    "ST14000NM0138",
                    "TOSHIBA MG08ACA16TEY",
                    "WDC  WUH721414ALE6L4",
                    "WDC WUH721414ALE6L4",
                    "MTFDDAV240TCB",
                    "MTFDDAV240TDU",
                    "ST14000NM001G",
                    "ST18000NM000J",
                    "HGST HUH721212ALE604",
                    "Seagate BarraCuda 120 SSD ZA250CM10003",
                    "ST12000NM0117",
                    "ST12000NM001G",
                    "TOSHIBA MG07ACA14TA",
                    "ST8000DM004",
                    "TOSHIBA MG08ACA16TA",
                    "ST12000NM0008",
                    "DELLBOSS VD",
                    "Seagate BarraCuda SSD ZA250CM10002",
                    "Hitachi HDS5C4040ALE630",
                    "TOSHIBA MQ01ABF050",
                    "HGST HUH721212ALE600",
                    "ST12000NM0007",
                    "TOSHIBA HDWF180",
                    "HGST HUH728080ALE600",
                    "HGST HMS5C4040ALE640",
                    "TOSHIBA MQ01ABF050M",
                    "ST500LM012 HN",
                    "ST500LM030",
                    "WDC WD5000LPVX",
                    "ST16000NM001G",
                    "HGST HDS5C4040ALE630",
                    "WDC WD5000LPCX",
                    "ST10000NM0086",
                    "ST8000NM0055",
                    "ST4000DM005",
                    "Seagate SSD",
                    "ST4000DM000",
                    "ST8000DM002",
                    "HGST HUH721212ALN604",
                    "HGST HMS5C4040BLE640",
                    "ST6000DX000",
                    "HGST HUH721010ALE600",
                    "ST6000DM004",
                    "Seagate BarraCuda SSD ZA500CM10002",
                    "ST6000DM001",
                    "HGST HUS726040ALE610",
                    "ST8000DM005",
                    "ST500LM021",
                    "WDC WD60EFRX",
                    "WDC WD5000BPKT",
                    "HGST HMS5C4040BLE641",
                    "TOSHIBA HDWE160",
                    "ST1000LM024 HN",
                    "Seagate BarraCuda SSD ZA2000CM10002",
                    "TOSHIBA MD04ABA400V"
                  ],
                  "yaxis": "y"
                }
              ],
              "layout": {
                "barmode": "relative",
                "legend": {
                  "tracegroupgap": 0
                },
                "margin": {
                  "t": 60
                },
                "template": {
                  "data": {
                    "bar": [
                      {
                        "error_x": {
                          "color": "#2a3f5f"
                        },
                        "error_y": {
                          "color": "#2a3f5f"
                        },
                        "marker": {
                          "line": {
                            "color": "#E5ECF6",
                            "width": 0.5
                          },
                          "pattern": {
                            "fillmode": "overlay",
                            "size": 10,
                            "solidity": 0.2
                          }
                        },
                        "type": "bar"
                      }
                    ],
                    "barpolar": [
                      {
                        "marker": {
                          "line": {
                            "color": "#E5ECF6",
                            "width": 0.5
                          },
                          "pattern": {
                            "fillmode": "overlay",
                            "size": 10,
                            "solidity": 0.2
                          }
                        },
                        "type": "barpolar"
                      }
                    ],
                    "carpet": [
                      {
                        "aaxis": {
                          "endlinecolor": "#2a3f5f",
                          "gridcolor": "white",
                          "linecolor": "white",
                          "minorgridcolor": "white",
                          "startlinecolor": "#2a3f5f"
                        },
                        "baxis": {
                          "endlinecolor": "#2a3f5f",
                          "gridcolor": "white",
                          "linecolor": "white",
                          "minorgridcolor": "white",
                          "startlinecolor": "#2a3f5f"
                        },
                        "type": "carpet"
                      }
                    ],
                    "choropleth": [
                      {
                        "colorbar": {
                          "outlinewidth": 0,
                          "ticks": ""
                        },
                        "type": "choropleth"
                      }
                    ],
                    "contour": [
                      {
                        "colorbar": {
                          "outlinewidth": 0,
                          "ticks": ""
                        },
                        "colorscale": [
                          [
                            0,
                            "#0d0887"
                          ],
                          [
                            0.1111111111111111,
                            "#46039f"
                          ],
                          [
                            0.2222222222222222,
                            "#7201a8"
                          ],
                          [
                            0.3333333333333333,
                            "#9c179e"
                          ],
                          [
                            0.4444444444444444,
                            "#bd3786"
                          ],
                          [
                            0.5555555555555556,
                            "#d8576b"
                          ],
                          [
                            0.6666666666666666,
                            "#ed7953"
                          ],
                          [
                            0.7777777777777778,
                            "#fb9f3a"
                          ],
                          [
                            0.8888888888888888,
                            "#fdca26"
                          ],
                          [
                            1,
                            "#f0f921"
                          ]
                        ],
                        "type": "contour"
                      }
                    ],
                    "contourcarpet": [
                      {
                        "colorbar": {
                          "outlinewidth": 0,
                          "ticks": ""
                        },
                        "type": "contourcarpet"
                      }
                    ],
                    "heatmap": [
                      {
                        "colorbar": {
                          "outlinewidth": 0,
                          "ticks": ""
                        },
                        "colorscale": [
                          [
                            0,
                            "#0d0887"
                          ],
                          [
                            0.1111111111111111,
                            "#46039f"
                          ],
                          [
                            0.2222222222222222,
                            "#7201a8"
                          ],
                          [
                            0.3333333333333333,
                            "#9c179e"
                          ],
                          [
                            0.4444444444444444,
                            "#bd3786"
                          ],
                          [
                            0.5555555555555556,
                            "#d8576b"
                          ],
                          [
                            0.6666666666666666,
                            "#ed7953"
                          ],
                          [
                            0.7777777777777778,
                            "#fb9f3a"
                          ],
                          [
                            0.8888888888888888,
                            "#fdca26"
                          ],
                          [
                            1,
                            "#f0f921"
                          ]
                        ],
                        "type": "heatmap"
                      }
                    ],
                    "heatmapgl": [
                      {
                        "colorbar": {
                          "outlinewidth": 0,
                          "ticks": ""
                        },
                        "colorscale": [
                          [
                            0,
                            "#0d0887"
                          ],
                          [
                            0.1111111111111111,
                            "#46039f"
                          ],
                          [
                            0.2222222222222222,
                            "#7201a8"
                          ],
                          [
                            0.3333333333333333,
                            "#9c179e"
                          ],
                          [
                            0.4444444444444444,
                            "#bd3786"
                          ],
                          [
                            0.5555555555555556,
                            "#d8576b"
                          ],
                          [
                            0.6666666666666666,
                            "#ed7953"
                          ],
                          [
                            0.7777777777777778,
                            "#fb9f3a"
                          ],
                          [
                            0.8888888888888888,
                            "#fdca26"
                          ],
                          [
                            1,
                            "#f0f921"
                          ]
                        ],
                        "type": "heatmapgl"
                      }
                    ],
                    "histogram": [
                      {
                        "marker": {
                          "pattern": {
                            "fillmode": "overlay",
                            "size": 10,
                            "solidity": 0.2
                          }
                        },
                        "type": "histogram"
                      }
                    ],
                    "histogram2d": [
                      {
                        "colorbar": {
                          "outlinewidth": 0,
                          "ticks": ""
                        },
                        "colorscale": [
                          [
                            0,
                            "#0d0887"
                          ],
                          [
                            0.1111111111111111,
                            "#46039f"
                          ],
                          [
                            0.2222222222222222,
                            "#7201a8"
                          ],
                          [
                            0.3333333333333333,
                            "#9c179e"
                          ],
                          [
                            0.4444444444444444,
                            "#bd3786"
                          ],
                          [
                            0.5555555555555556,
                            "#d8576b"
                          ],
                          [
                            0.6666666666666666,
                            "#ed7953"
                          ],
                          [
                            0.7777777777777778,
                            "#fb9f3a"
                          ],
                          [
                            0.8888888888888888,
                            "#fdca26"
                          ],
                          [
                            1,
                            "#f0f921"
                          ]
                        ],
                        "type": "histogram2d"
                      }
                    ],
                    "histogram2dcontour": [
                      {
                        "colorbar": {
                          "outlinewidth": 0,
                          "ticks": ""
                        },
                        "colorscale": [
                          [
                            0,
                            "#0d0887"
                          ],
                          [
                            0.1111111111111111,
                            "#46039f"
                          ],
                          [
                            0.2222222222222222,
                            "#7201a8"
                          ],
                          [
                            0.3333333333333333,
                            "#9c179e"
                          ],
                          [
                            0.4444444444444444,
                            "#bd3786"
                          ],
                          [
                            0.5555555555555556,
                            "#d8576b"
                          ],
                          [
                            0.6666666666666666,
                            "#ed7953"
                          ],
                          [
                            0.7777777777777778,
                            "#fb9f3a"
                          ],
                          [
                            0.8888888888888888,
                            "#fdca26"
                          ],
                          [
                            1,
                            "#f0f921"
                          ]
                        ],
                        "type": "histogram2dcontour"
                      }
                    ],
                    "mesh3d": [
                      {
                        "colorbar": {
                          "outlinewidth": 0,
                          "ticks": ""
                        },
                        "type": "mesh3d"
                      }
                    ],
                    "parcoords": [
                      {
                        "line": {
                          "colorbar": {
                            "outlinewidth": 0,
                            "ticks": ""
                          }
                        },
                        "type": "parcoords"
                      }
                    ],
                    "pie": [
                      {
                        "automargin": true,
                        "type": "pie"
                      }
                    ],
                    "scatter": [
                      {
                        "fillpattern": {
                          "fillmode": "overlay",
                          "size": 10,
                          "solidity": 0.2
                        },
                        "type": "scatter"
                      }
                    ],
                    "scatter3d": [
                      {
                        "line": {
                          "colorbar": {
                            "outlinewidth": 0,
                            "ticks": ""
                          }
                        },
                        "marker": {
                          "colorbar": {
                            "outlinewidth": 0,
                            "ticks": ""
                          }
                        },
                        "type": "scatter3d"
                      }
                    ],
                    "scattercarpet": [
                      {
                        "marker": {
                          "colorbar": {
                            "outlinewidth": 0,
                            "ticks": ""
                          }
                        },
                        "type": "scattercarpet"
                      }
                    ],
                    "scattergeo": [
                      {
                        "marker": {
                          "colorbar": {
                            "outlinewidth": 0,
                            "ticks": ""
                          }
                        },
                        "type": "scattergeo"
                      }
                    ],
                    "scattergl": [
                      {
                        "marker": {
                          "colorbar": {
                            "outlinewidth": 0,
                            "ticks": ""
                          }
                        },
                        "type": "scattergl"
                      }
                    ],
                    "scattermapbox": [
                      {
                        "marker": {
                          "colorbar": {
                            "outlinewidth": 0,
                            "ticks": ""
                          }
                        },
                        "type": "scattermapbox"
                      }
                    ],
                    "scatterpolar": [
                      {
                        "marker": {
                          "colorbar": {
                            "outlinewidth": 0,
                            "ticks": ""
                          }
                        },
                        "type": "scatterpolar"
                      }
                    ],
                    "scatterpolargl": [
                      {
                        "marker": {
                          "colorbar": {
                            "outlinewidth": 0,
                            "ticks": ""
                          }
                        },
                        "type": "scatterpolargl"
                      }
                    ],
                    "scatterternary": [
                      {
                        "marker": {
                          "colorbar": {
                            "outlinewidth": 0,
                            "ticks": ""
                          }
                        },
                        "type": "scatterternary"
                      }
                    ],
                    "surface": [
                      {
                        "colorbar": {
                          "outlinewidth": 0,
                          "ticks": ""
                        },
                        "colorscale": [
                          [
                            0,
                            "#0d0887"
                          ],
                          [
                            0.1111111111111111,
                            "#46039f"
                          ],
                          [
                            0.2222222222222222,
                            "#7201a8"
                          ],
                          [
                            0.3333333333333333,
                            "#9c179e"
                          ],
                          [
                            0.4444444444444444,
                            "#bd3786"
                          ],
                          [
                            0.5555555555555556,
                            "#d8576b"
                          ],
                          [
                            0.6666666666666666,
                            "#ed7953"
                          ],
                          [
                            0.7777777777777778,
                            "#fb9f3a"
                          ],
                          [
                            0.8888888888888888,
                            "#fdca26"
                          ],
                          [
                            1,
                            "#f0f921"
                          ]
                        ],
                        "type": "surface"
                      }
                    ],
                    "table": [
                      {
                        "cells": {
                          "fill": {
                            "color": "#EBF0F8"
                          },
                          "line": {
                            "color": "white"
                          }
                        },
                        "header": {
                          "fill": {
                            "color": "#C8D4E3"
                          },
                          "line": {
                            "color": "white"
                          }
                        },
                        "type": "table"
                      }
                    ]
                  },
                  "layout": {
                    "annotationdefaults": {
                      "arrowcolor": "#2a3f5f",
                      "arrowhead": 0,
                      "arrowwidth": 1
                    },
                    "autotypenumbers": "strict",
                    "coloraxis": {
                      "colorbar": {
                        "outlinewidth": 0,
                        "ticks": ""
                      }
                    },
                    "colorscale": {
                      "diverging": [
                        [
                          0,
                          "#8e0152"
                        ],
                        [
                          0.1,
                          "#c51b7d"
                        ],
                        [
                          0.2,
                          "#de77ae"
                        ],
                        [
                          0.3,
                          "#f1b6da"
                        ],
                        [
                          0.4,
                          "#fde0ef"
                        ],
                        [
                          0.5,
                          "#f7f7f7"
                        ],
                        [
                          0.6,
                          "#e6f5d0"
                        ],
                        [
                          0.7,
                          "#b8e186"
                        ],
                        [
                          0.8,
                          "#7fbc41"
                        ],
                        [
                          0.9,
                          "#4d9221"
                        ],
                        [
                          1,
                          "#276419"
                        ]
                      ],
                      "sequential": [
                        [
                          0,
                          "#0d0887"
                        ],
                        [
                          0.1111111111111111,
                          "#46039f"
                        ],
                        [
                          0.2222222222222222,
                          "#7201a8"
                        ],
                        [
                          0.3333333333333333,
                          "#9c179e"
                        ],
                        [
                          0.4444444444444444,
                          "#bd3786"
                        ],
                        [
                          0.5555555555555556,
                          "#d8576b"
                        ],
                        [
                          0.6666666666666666,
                          "#ed7953"
                        ],
                        [
                          0.7777777777777778,
                          "#fb9f3a"
                        ],
                        [
                          0.8888888888888888,
                          "#fdca26"
                        ],
                        [
                          1,
                          "#f0f921"
                        ]
                      ],
                      "sequentialminus": [
                        [
                          0,
                          "#0d0887"
                        ],
                        [
                          0.1111111111111111,
                          "#46039f"
                        ],
                        [
                          0.2222222222222222,
                          "#7201a8"
                        ],
                        [
                          0.3333333333333333,
                          "#9c179e"
                        ],
                        [
                          0.4444444444444444,
                          "#bd3786"
                        ],
                        [
                          0.5555555555555556,
                          "#d8576b"
                        ],
                        [
                          0.6666666666666666,
                          "#ed7953"
                        ],
                        [
                          0.7777777777777778,
                          "#fb9f3a"
                        ],
                        [
                          0.8888888888888888,
                          "#fdca26"
                        ],
                        [
                          1,
                          "#f0f921"
                        ]
                      ]
                    },
                    "colorway": [
                      "#636efa",
                      "#EF553B",
                      "#00cc96",
                      "#ab63fa",
                      "#FFA15A",
                      "#19d3f3",
                      "#FF6692",
                      "#B6E880",
                      "#FF97FF",
                      "#FECB52"
                    ],
                    "font": {
                      "color": "#2a3f5f"
                    },
                    "geo": {
                      "bgcolor": "white",
                      "lakecolor": "white",
                      "landcolor": "#E5ECF6",
                      "showlakes": true,
                      "showland": true,
                      "subunitcolor": "white"
                    },
                    "hoverlabel": {
                      "align": "left"
                    },
                    "hovermode": "closest",
                    "mapbox": {
                      "style": "light"
                    },
                    "paper_bgcolor": "white",
                    "plot_bgcolor": "#E5ECF6",
                    "polar": {
                      "angularaxis": {
                        "gridcolor": "white",
                        "linecolor": "white",
                        "ticks": ""
                      },
                      "bgcolor": "#E5ECF6",
                      "radialaxis": {
                        "gridcolor": "white",
                        "linecolor": "white",
                        "ticks": ""
                      }
                    },
                    "scene": {
                      "xaxis": {
                        "backgroundcolor": "#E5ECF6",
                        "gridcolor": "white",
                        "gridwidth": 2,
                        "linecolor": "white",
                        "showbackground": true,
                        "ticks": "",
                        "zerolinecolor": "white"
                      },
                      "yaxis": {
                        "backgroundcolor": "#E5ECF6",
                        "gridcolor": "white",
                        "gridwidth": 2,
                        "linecolor": "white",
                        "showbackground": true,
                        "ticks": "",
                        "zerolinecolor": "white"
                      },
                      "zaxis": {
                        "backgroundcolor": "#E5ECF6",
                        "gridcolor": "white",
                        "gridwidth": 2,
                        "linecolor": "white",
                        "showbackground": true,
                        "ticks": "",
                        "zerolinecolor": "white"
                      }
                    },
                    "shapedefaults": {
                      "line": {
                        "color": "#2a3f5f"
                      }
                    },
                    "ternary": {
                      "aaxis": {
                        "gridcolor": "white",
                        "linecolor": "white",
                        "ticks": ""
                      },
                      "baxis": {
                        "gridcolor": "white",
                        "linecolor": "white",
                        "ticks": ""
                      },
                      "bgcolor": "#E5ECF6",
                      "caxis": {
                        "gridcolor": "white",
                        "linecolor": "white",
                        "ticks": ""
                      }
                    },
                    "title": {
                      "x": 0.05
                    },
                    "xaxis": {
                      "automargin": true,
                      "gridcolor": "white",
                      "linecolor": "white",
                      "ticks": "",
                      "title": {
                        "standoff": 15
                      },
                      "zerolinecolor": "white",
                      "zerolinewidth": 2
                    },
                    "yaxis": {
                      "automargin": true,
                      "gridcolor": "white",
                      "linecolor": "white",
                      "ticks": "",
                      "title": {
                        "standoff": 15
                      },
                      "zerolinecolor": "white",
                      "zerolinewidth": 2
                    }
                  }
                },
                "xaxis": {
                  "anchor": "y",
                  "domain": [
                    0,
                    1
                  ],
                  "title": {
                    "text": "drivedays"
                  }
                },
                "yaxis": {
                  "anchor": "x",
                  "domain": [
                    0,
                    1
                  ],
                  "title": {
                    "text": "model"
                  }
                }
              }
            },
            "text/html": [
              "<div>                            <div id=\"91f5cb1f-6c7f-447c-88fd-9091173a56ec\" class=\"plotly-graph-div\" style=\"height:525px; width:100%;\"></div>            <script type=\"text/javascript\">                require([\"plotly\"], function(Plotly) {                    window.PLOTLYENV=window.PLOTLYENV || {};                                    if (document.getElementById(\"91f5cb1f-6c7f-447c-88fd-9091173a56ec\")) {                    Plotly.newPlot(                        \"91f5cb1f-6c7f-447c-88fd-9091173a56ec\",                        [{\"alignmentgroup\":\"True\",\"hovertemplate\":\"drivedays=%{x}\\u003cbr\\u003emodel=%{y}\\u003cextra\\u003e\\u003c\\u002fextra\\u003e\",\"legendgroup\":\"\",\"marker\":{\"color\":\"#636efa\",\"pattern\":{\"shape\":\"\"}},\"name\":\"\",\"offsetgroup\":\"\",\"orientation\":\"h\",\"showlegend\":false,\"textposition\":\"auto\",\"x\":[0.0,0.0,24.0,30.0,30.0,32.30769230769231,34.310344827586206,38.066430020283974,45.63157894736842,63.0,75.50066666666666,92.87096774193549,103.75218216318785,115.45073891625616,155.5,180.02513615416842,193.06662253534446,212.0,238.0,274.0218282434925,275.86206896551727,276.12142857142857,283.6666666666667,318.2079646017699,319.0049846625767,319.7691853442491,334.0,344.0834879406308,347.630749437118,348.79904306220095,349.6393442622951,352.19367588932806,352.8942307692308,354.3833333333333,355.8076923076923,359.6666666666667,359.99917830731306,361.42959967096243,361.6666666666667,361.7155963302752,361.9625799074892,362.4271086780211,363.66685042263873,363.9317577085616,364.17454954954957,365.0,365.0,365.0,365.0,365.0,365.0,365.0,365.0,365.0,365.0,365.0,365.0,365.0,365.0],\"xaxis\":\"x\",\"y\":[\"ST16000NM005G\",\"SSDSCKKB480G8R\",\"ST14000NM0018\",\"TOSHIBA MG07ACA14TEY\",\"ST14000NM0138\",\"TOSHIBA MG08ACA16TEY\",\"WDC  WUH721414ALE6L4\",\"WDC WUH721414ALE6L4\",\"MTFDDAV240TCB\",\"MTFDDAV240TDU\",\"ST14000NM001G\",\"ST18000NM000J\",\"HGST HUH721212ALE604\",\"Seagate BarraCuda 120 SSD ZA250CM10003\",\"ST12000NM0117\",\"ST12000NM001G\",\"TOSHIBA MG07ACA14TA\",\"ST8000DM004\",\"TOSHIBA MG08ACA16TA\",\"ST12000NM0008\",\"DELLBOSS VD\",\"Seagate BarraCuda SSD ZA250CM10002\",\"Hitachi HDS5C4040ALE630\",\"TOSHIBA MQ01ABF050\",\"HGST HUH721212ALE600\",\"ST12000NM0007\",\"TOSHIBA HDWF180\",\"HGST HUH728080ALE600\",\"HGST HMS5C4040ALE640\",\"TOSHIBA MQ01ABF050M\",\"ST500LM012 HN\",\"ST500LM030\",\"WDC WD5000LPVX\",\"ST16000NM001G\",\"HGST HDS5C4040ALE630\",\"WDC WD5000LPCX\",\"ST10000NM0086\",\"ST8000NM0055\",\"ST4000DM005\",\"Seagate SSD\",\"ST4000DM000\",\"ST8000DM002\",\"HGST HUH721212ALN604\",\"HGST HMS5C4040BLE640\",\"ST6000DX000\",\"HGST HUH721010ALE600\",\"ST6000DM004\",\"Seagate BarraCuda SSD ZA500CM10002\",\"ST6000DM001\",\"HGST HUS726040ALE610\",\"ST8000DM005\",\"ST500LM021\",\"WDC WD60EFRX\",\"WDC WD5000BPKT\",\"HGST HMS5C4040BLE641\",\"TOSHIBA HDWE160\",\"ST1000LM024 HN\",\"Seagate BarraCuda SSD ZA2000CM10002\",\"TOSHIBA MD04ABA400V\"],\"yaxis\":\"y\",\"type\":\"bar\"}],                        {\"template\":{\"data\":{\"histogram2dcontour\":[{\"type\":\"histogram2dcontour\",\"colorbar\":{\"outlinewidth\":0,\"ticks\":\"\"},\"colorscale\":[[0.0,\"#0d0887\"],[0.1111111111111111,\"#46039f\"],[0.2222222222222222,\"#7201a8\"],[0.3333333333333333,\"#9c179e\"],[0.4444444444444444,\"#bd3786\"],[0.5555555555555556,\"#d8576b\"],[0.6666666666666666,\"#ed7953\"],[0.7777777777777778,\"#fb9f3a\"],[0.8888888888888888,\"#fdca26\"],[1.0,\"#f0f921\"]]}],\"choropleth\":[{\"type\":\"choropleth\",\"colorbar\":{\"outlinewidth\":0,\"ticks\":\"\"}}],\"histogram2d\":[{\"type\":\"histogram2d\",\"colorbar\":{\"outlinewidth\":0,\"ticks\":\"\"},\"colorscale\":[[0.0,\"#0d0887\"],[0.1111111111111111,\"#46039f\"],[0.2222222222222222,\"#7201a8\"],[0.3333333333333333,\"#9c179e\"],[0.4444444444444444,\"#bd3786\"],[0.5555555555555556,\"#d8576b\"],[0.6666666666666666,\"#ed7953\"],[0.7777777777777778,\"#fb9f3a\"],[0.8888888888888888,\"#fdca26\"],[1.0,\"#f0f921\"]]}],\"heatmap\":[{\"type\":\"heatmap\",\"colorbar\":{\"outlinewidth\":0,\"ticks\":\"\"},\"colorscale\":[[0.0,\"#0d0887\"],[0.1111111111111111,\"#46039f\"],[0.2222222222222222,\"#7201a8\"],[0.3333333333333333,\"#9c179e\"],[0.4444444444444444,\"#bd3786\"],[0.5555555555555556,\"#d8576b\"],[0.6666666666666666,\"#ed7953\"],[0.7777777777777778,\"#fb9f3a\"],[0.8888888888888888,\"#fdca26\"],[1.0,\"#f0f921\"]]}],\"heatmapgl\":[{\"type\":\"heatmapgl\",\"colorbar\":{\"outlinewidth\":0,\"ticks\":\"\"},\"colorscale\":[[0.0,\"#0d0887\"],[0.1111111111111111,\"#46039f\"],[0.2222222222222222,\"#7201a8\"],[0.3333333333333333,\"#9c179e\"],[0.4444444444444444,\"#bd3786\"],[0.5555555555555556,\"#d8576b\"],[0.6666666666666666,\"#ed7953\"],[0.7777777777777778,\"#fb9f3a\"],[0.8888888888888888,\"#fdca26\"],[1.0,\"#f0f921\"]]}],\"contourcarpet\":[{\"type\":\"contourcarpet\",\"colorbar\":{\"outlinewidth\":0,\"ticks\":\"\"}}],\"contour\":[{\"type\":\"contour\",\"colorbar\":{\"outlinewidth\":0,\"ticks\":\"\"},\"colorscale\":[[0.0,\"#0d0887\"],[0.1111111111111111,\"#46039f\"],[0.2222222222222222,\"#7201a8\"],[0.3333333333333333,\"#9c179e\"],[0.4444444444444444,\"#bd3786\"],[0.5555555555555556,\"#d8576b\"],[0.6666666666666666,\"#ed7953\"],[0.7777777777777778,\"#fb9f3a\"],[0.8888888888888888,\"#fdca26\"],[1.0,\"#f0f921\"]]}],\"surface\":[{\"type\":\"surface\",\"colorbar\":{\"outlinewidth\":0,\"ticks\":\"\"},\"colorscale\":[[0.0,\"#0d0887\"],[0.1111111111111111,\"#46039f\"],[0.2222222222222222,\"#7201a8\"],[0.3333333333333333,\"#9c179e\"],[0.4444444444444444,\"#bd3786\"],[0.5555555555555556,\"#d8576b\"],[0.6666666666666666,\"#ed7953\"],[0.7777777777777778,\"#fb9f3a\"],[0.8888888888888888,\"#fdca26\"],[1.0,\"#f0f921\"]]}],\"mesh3d\":[{\"type\":\"mesh3d\",\"colorbar\":{\"outlinewidth\":0,\"ticks\":\"\"}}],\"scatter\":[{\"fillpattern\":{\"fillmode\":\"overlay\",\"size\":10,\"solidity\":0.2},\"type\":\"scatter\"}],\"parcoords\":[{\"type\":\"parcoords\",\"line\":{\"colorbar\":{\"outlinewidth\":0,\"ticks\":\"\"}}}],\"scatterpolargl\":[{\"type\":\"scatterpolargl\",\"marker\":{\"colorbar\":{\"outlinewidth\":0,\"ticks\":\"\"}}}],\"bar\":[{\"error_x\":{\"color\":\"#2a3f5f\"},\"error_y\":{\"color\":\"#2a3f5f\"},\"marker\":{\"line\":{\"color\":\"#E5ECF6\",\"width\":0.5},\"pattern\":{\"fillmode\":\"overlay\",\"size\":10,\"solidity\":0.2}},\"type\":\"bar\"}],\"scattergeo\":[{\"type\":\"scattergeo\",\"marker\":{\"colorbar\":{\"outlinewidth\":0,\"ticks\":\"\"}}}],\"scatterpolar\":[{\"type\":\"scatterpolar\",\"marker\":{\"colorbar\":{\"outlinewidth\":0,\"ticks\":\"\"}}}],\"histogram\":[{\"marker\":{\"pattern\":{\"fillmode\":\"overlay\",\"size\":10,\"solidity\":0.2}},\"type\":\"histogram\"}],\"scattergl\":[{\"type\":\"scattergl\",\"marker\":{\"colorbar\":{\"outlinewidth\":0,\"ticks\":\"\"}}}],\"scatter3d\":[{\"type\":\"scatter3d\",\"line\":{\"colorbar\":{\"outlinewidth\":0,\"ticks\":\"\"}},\"marker\":{\"colorbar\":{\"outlinewidth\":0,\"ticks\":\"\"}}}],\"scattermapbox\":[{\"type\":\"scattermapbox\",\"marker\":{\"colorbar\":{\"outlinewidth\":0,\"ticks\":\"\"}}}],\"scatterternary\":[{\"type\":\"scatterternary\",\"marker\":{\"colorbar\":{\"outlinewidth\":0,\"ticks\":\"\"}}}],\"scattercarpet\":[{\"type\":\"scattercarpet\",\"marker\":{\"colorbar\":{\"outlinewidth\":0,\"ticks\":\"\"}}}],\"carpet\":[{\"aaxis\":{\"endlinecolor\":\"#2a3f5f\",\"gridcolor\":\"white\",\"linecolor\":\"white\",\"minorgridcolor\":\"white\",\"startlinecolor\":\"#2a3f5f\"},\"baxis\":{\"endlinecolor\":\"#2a3f5f\",\"gridcolor\":\"white\",\"linecolor\":\"white\",\"minorgridcolor\":\"white\",\"startlinecolor\":\"#2a3f5f\"},\"type\":\"carpet\"}],\"table\":[{\"cells\":{\"fill\":{\"color\":\"#EBF0F8\"},\"line\":{\"color\":\"white\"}},\"header\":{\"fill\":{\"color\":\"#C8D4E3\"},\"line\":{\"color\":\"white\"}},\"type\":\"table\"}],\"barpolar\":[{\"marker\":{\"line\":{\"color\":\"#E5ECF6\",\"width\":0.5},\"pattern\":{\"fillmode\":\"overlay\",\"size\":10,\"solidity\":0.2}},\"type\":\"barpolar\"}],\"pie\":[{\"automargin\":true,\"type\":\"pie\"}]},\"layout\":{\"autotypenumbers\":\"strict\",\"colorway\":[\"#636efa\",\"#EF553B\",\"#00cc96\",\"#ab63fa\",\"#FFA15A\",\"#19d3f3\",\"#FF6692\",\"#B6E880\",\"#FF97FF\",\"#FECB52\"],\"font\":{\"color\":\"#2a3f5f\"},\"hovermode\":\"closest\",\"hoverlabel\":{\"align\":\"left\"},\"paper_bgcolor\":\"white\",\"plot_bgcolor\":\"#E5ECF6\",\"polar\":{\"bgcolor\":\"#E5ECF6\",\"angularaxis\":{\"gridcolor\":\"white\",\"linecolor\":\"white\",\"ticks\":\"\"},\"radialaxis\":{\"gridcolor\":\"white\",\"linecolor\":\"white\",\"ticks\":\"\"}},\"ternary\":{\"bgcolor\":\"#E5ECF6\",\"aaxis\":{\"gridcolor\":\"white\",\"linecolor\":\"white\",\"ticks\":\"\"},\"baxis\":{\"gridcolor\":\"white\",\"linecolor\":\"white\",\"ticks\":\"\"},\"caxis\":{\"gridcolor\":\"white\",\"linecolor\":\"white\",\"ticks\":\"\"}},\"coloraxis\":{\"colorbar\":{\"outlinewidth\":0,\"ticks\":\"\"}},\"colorscale\":{\"sequential\":[[0.0,\"#0d0887\"],[0.1111111111111111,\"#46039f\"],[0.2222222222222222,\"#7201a8\"],[0.3333333333333333,\"#9c179e\"],[0.4444444444444444,\"#bd3786\"],[0.5555555555555556,\"#d8576b\"],[0.6666666666666666,\"#ed7953\"],[0.7777777777777778,\"#fb9f3a\"],[0.8888888888888888,\"#fdca26\"],[1.0,\"#f0f921\"]],\"sequentialminus\":[[0.0,\"#0d0887\"],[0.1111111111111111,\"#46039f\"],[0.2222222222222222,\"#7201a8\"],[0.3333333333333333,\"#9c179e\"],[0.4444444444444444,\"#bd3786\"],[0.5555555555555556,\"#d8576b\"],[0.6666666666666666,\"#ed7953\"],[0.7777777777777778,\"#fb9f3a\"],[0.8888888888888888,\"#fdca26\"],[1.0,\"#f0f921\"]],\"diverging\":[[0,\"#8e0152\"],[0.1,\"#c51b7d\"],[0.2,\"#de77ae\"],[0.3,\"#f1b6da\"],[0.4,\"#fde0ef\"],[0.5,\"#f7f7f7\"],[0.6,\"#e6f5d0\"],[0.7,\"#b8e186\"],[0.8,\"#7fbc41\"],[0.9,\"#4d9221\"],[1,\"#276419\"]]},\"xaxis\":{\"gridcolor\":\"white\",\"linecolor\":\"white\",\"ticks\":\"\",\"title\":{\"standoff\":15},\"zerolinecolor\":\"white\",\"automargin\":true,\"zerolinewidth\":2},\"yaxis\":{\"gridcolor\":\"white\",\"linecolor\":\"white\",\"ticks\":\"\",\"title\":{\"standoff\":15},\"zerolinecolor\":\"white\",\"automargin\":true,\"zerolinewidth\":2},\"scene\":{\"xaxis\":{\"backgroundcolor\":\"#E5ECF6\",\"gridcolor\":\"white\",\"linecolor\":\"white\",\"showbackground\":true,\"ticks\":\"\",\"zerolinecolor\":\"white\",\"gridwidth\":2},\"yaxis\":{\"backgroundcolor\":\"#E5ECF6\",\"gridcolor\":\"white\",\"linecolor\":\"white\",\"showbackground\":true,\"ticks\":\"\",\"zerolinecolor\":\"white\",\"gridwidth\":2},\"zaxis\":{\"backgroundcolor\":\"#E5ECF6\",\"gridcolor\":\"white\",\"linecolor\":\"white\",\"showbackground\":true,\"ticks\":\"\",\"zerolinecolor\":\"white\",\"gridwidth\":2}},\"shapedefaults\":{\"line\":{\"color\":\"#2a3f5f\"}},\"annotationdefaults\":{\"arrowcolor\":\"#2a3f5f\",\"arrowhead\":0,\"arrowwidth\":1},\"geo\":{\"bgcolor\":\"white\",\"landcolor\":\"#E5ECF6\",\"subunitcolor\":\"white\",\"showland\":true,\"showlakes\":true,\"lakecolor\":\"white\"},\"title\":{\"x\":0.05},\"mapbox\":{\"style\":\"light\"}}},\"xaxis\":{\"anchor\":\"y\",\"domain\":[0.0,1.0],\"title\":{\"text\":\"drivedays\"}},\"yaxis\":{\"anchor\":\"x\",\"domain\":[0.0,1.0],\"title\":{\"text\":\"model\"}},\"legend\":{\"tracegroupgap\":0},\"margin\":{\"t\":60},\"barmode\":\"relative\"},                        {\"responsive\": true}                    ).then(function(){\n",
              "                            \n",
              "var gd = document.getElementById('91f5cb1f-6c7f-447c-88fd-9091173a56ec');\n",
              "var x = new MutationObserver(function (mutations, observer) {{\n",
              "        var display = window.getComputedStyle(gd).display;\n",
              "        if (!display || display === 'none') {{\n",
              "            console.log([gd, 'removed!']);\n",
              "            Plotly.purge(gd);\n",
              "            observer.disconnect();\n",
              "        }}\n",
              "}});\n",
              "\n",
              "// Listen for the removal of the full notebook cells\n",
              "var notebookContainer = gd.closest('#notebook-container');\n",
              "if (notebookContainer) {{\n",
              "    x.observe(notebookContainer, {childList: true});\n",
              "}}\n",
              "\n",
              "// Listen for the clearing of the current output cell\n",
              "var outputEl = gd.closest('.output');\n",
              "if (outputEl) {{\n",
              "    x.observe(outputEl, {childList: true});\n",
              "}}\n",
              "\n",
              "                        })                };                });            </script>        </div>"
            ]
          },
          "metadata": {},
          "output_type": "display_data"
        }
      ],
      "source": [
        "# plot average drivedays grouped by model as horizontal bar chart using plotly express\n",
        "import plotly.express as px\n",
        "px.bar(drive_days.groupby(\"model\").agg(pl.col(\"drivedays\").mean()).sort(\"drivedays\"), y=\"model\", x=\"drivedays\")\n"
      ]
    }
  ],
  "metadata": {
    "colab": {
      "provenance": []
    },
    "kernelspec": {
      "display_name": "Python 3",
      "language": "python",
      "name": "python3"
    },
    "language_info": {
      "codemirror_mode": {
        "name": "ipython",
        "version": 3
      },
      "file_extension": ".py",
      "mimetype": "text/x-python",
      "name": "python",
      "nbconvert_exporter": "python",
      "pygments_lexer": "ipython3",
      "version": "3.10.8"
    }
  },
  "nbformat": 4,
  "nbformat_minor": 0
}
